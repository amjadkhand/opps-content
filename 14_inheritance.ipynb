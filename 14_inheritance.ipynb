{
 "cells": [
  {
   "cell_type": "markdown",
   "metadata": {},
   "source": [
    "# What is Inheritance ?\n",
    "\n",
    "Deriving a new class from an existing class so that new class inherits all members (attributes + methods) of existing class is called as inheritance."
   ]
  },
  {
   "cell_type": "markdown",
   "metadata": {},
   "source": [
    "# Object class:-\n",
    "All classes in Python are derived from built in 'object' class"
   ]
  },
  {
   "cell_type": "code",
   "execution_count": 13,
   "metadata": {},
   "outputs": [
    {
     "name": "stdout",
     "output_type": "stream",
     "text": [
      "This is employee class method\n",
      "2000\n",
      "\n",
      "____________________Manager class ________________________\n",
      "This is employee class method\n",
      "This is manager class method\n",
      "2000\n"
     ]
    },
    {
     "data": {
      "text/plain": [
       "2000"
      ]
     },
     "execution_count": 13,
     "metadata": {},
     "output_type": "execute_result"
    }
   ],
   "source": [
    "class Employee(object):\n",
    "    bonus = 2000\n",
    "\n",
    "    def display(self):\n",
    "        print(\"This is employee class method\")\n",
    "\n",
    "class Manager(Employee):\n",
    "    bonus1 = 5000\n",
    "\n",
    "    def show(self):\n",
    "        print(\"This is manager class method\")\n",
    "\n",
    "\n",
    "e1 = Employee()  \n",
    "\n",
    "e1.display()\n",
    "# e1.show()\n",
    "print(e1.bonus)\n",
    "print()\n",
    "Employee.bonus\n",
    "\n",
    "print(\"____________________Manager class ________________________\")\n",
    "m1 = Manager()        \n",
    "\n",
    "m1.display()\n",
    "m1.show()\n",
    "print(m1.bonus)\n",
    "Employee.bonus"
   ]
  },
  {
   "cell_type": "markdown",
   "metadata": {},
   "source": [
    "parent class no access child class attribut"
   ]
  },
  {
   "cell_type": "code",
   "execution_count": 9,
   "metadata": {},
   "outputs": [
    {
     "name": "stdout",
     "output_type": "stream",
     "text": [
      "This is employee class method\n"
     ]
    },
    {
     "ename": "AttributeError",
     "evalue": "'Employee' object has no attribute 'bonus1'",
     "output_type": "error",
     "traceback": [
      "\u001b[1;31m---------------------------------------------------------------------------\u001b[0m",
      "\u001b[1;31mAttributeError\u001b[0m                            Traceback (most recent call last)",
      "Cell \u001b[1;32mIn[9], line 19\u001b[0m\n\u001b[0;32m     15\u001b[0m m1 \u001b[38;5;241m=\u001b[39m Manager()        \n\u001b[0;32m     17\u001b[0m e1\u001b[38;5;241m.\u001b[39mdisplay()\n\u001b[1;32m---> 19\u001b[0m \u001b[43me1\u001b[49m\u001b[38;5;241;43m.\u001b[39;49m\u001b[43mbonus1\u001b[49m\n",
      "\u001b[1;31mAttributeError\u001b[0m: 'Employee' object has no attribute 'bonus1'"
     ]
    }
   ],
   "source": [
    "class Employee(object):\n",
    "    bonus = 2000\n",
    "\n",
    "    def display(self):\n",
    "        print(\"This is employee class method\")\n",
    "\n",
    "class Manager(Employee):\n",
    "    bonus1 = 5000\n",
    "\n",
    "    def show(self):\n",
    "        print(\"This is manager class method\")\n",
    "\n",
    "\n",
    "e1 = Employee()        \n",
    "m1 = Manager()        \n",
    "\n",
    "e1.display()\n",
    "\n",
    "e1.bonus1"
   ]
  }
 ],
 "metadata": {
  "kernelspec": {
   "display_name": "base",
   "language": "python",
   "name": "python3"
  },
  "language_info": {
   "codemirror_mode": {
    "name": "ipython",
    "version": 3
   },
   "file_extension": ".py",
   "mimetype": "text/x-python",
   "name": "python",
   "nbconvert_exporter": "python",
   "pygments_lexer": "ipython3",
   "version": "3.12.4"
  }
 },
 "nbformat": 4,
 "nbformat_minor": 2
}

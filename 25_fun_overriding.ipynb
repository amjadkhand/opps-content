{
 "cells": [
  {
   "cell_type": "markdown",
   "metadata": {},
   "source": [
    "# Function Overriding in Python"
   ]
  },
  {
   "cell_type": "code",
   "execution_count": 3,
   "metadata": {},
   "outputs": [
    {
     "name": "stdout",
     "output_type": "stream",
     "text": [
      "<__main__.Cart object at 0x0000020FD4F2FC80>\n"
     ]
    }
   ],
   "source": [
    "class Cart:\n",
    "  pass\n",
    "    \n",
    "cr = Cart()  \n",
    "print(cr)  "
   ]
  },
  {
   "cell_type": "markdown",
   "metadata": {},
   "source": [
    "# `override function`"
   ]
  },
  {
   "cell_type": "code",
   "execution_count": 4,
   "metadata": {},
   "outputs": [
    {
     "name": "stdout",
     "output_type": "stream",
     "text": [
      "This is cart class ojbect\n"
     ]
    }
   ],
   "source": [
    "class Cart:\n",
    "    def __str__(self):\n",
    "        return \"This is cart class ojbect\"\n",
    "    \n",
    "cr = Cart()  \n",
    "print(cr) "
   ]
  },
  {
   "cell_type": "code",
   "execution_count": 3,
   "metadata": {},
   "outputs": [
    {
     "ename": "TypeError",
     "evalue": "object of type 'Cart' has no len()",
     "output_type": "error",
     "traceback": [
      "\u001b[1;31m---------------------------------------------------------------------------\u001b[0m",
      "\u001b[1;31mTypeError\u001b[0m                                 Traceback (most recent call last)",
      "Cell \u001b[1;32mIn[3], line 9\u001b[0m\n\u001b[0;32m      5\u001b[0m         \u001b[38;5;28mself\u001b[39m\u001b[38;5;241m.\u001b[39mother \u001b[38;5;241m=\u001b[39m basket3\n\u001b[0;32m      7\u001b[0m shantanu \u001b[38;5;241m=\u001b[39m Cart([\u001b[38;5;124m'\u001b[39m\u001b[38;5;124mpaint\u001b[39m\u001b[38;5;124m'\u001b[39m, \u001b[38;5;124m'\u001b[39m\u001b[38;5;124mshirt\u001b[39m\u001b[38;5;124m'\u001b[39m,\u001b[38;5;124m'\u001b[39m\u001b[38;5;124mt-shirt\u001b[39m\u001b[38;5;124m'\u001b[39m],[\u001b[38;5;124m'\u001b[39m\u001b[38;5;124mearphone\u001b[39m\u001b[38;5;124m'\u001b[39m,\u001b[38;5;124m'\u001b[39m\u001b[38;5;124mmobile\u001b[39m\u001b[38;5;124m'\u001b[39m],[\u001b[38;5;124m'\u001b[39m\u001b[38;5;124mchair\u001b[39m\u001b[38;5;124m'\u001b[39m])   \n\u001b[1;32m----> 9\u001b[0m \u001b[38;5;28mprint\u001b[39m(\u001b[38;5;28;43mlen\u001b[39;49m\u001b[43m(\u001b[49m\u001b[43mshantanu\u001b[49m\u001b[43m)\u001b[49m)\n",
      "\u001b[1;31mTypeError\u001b[0m: object of type 'Cart' has no len()"
     ]
    }
   ],
   "source": [
    "class Cart:\n",
    "    def __init__(self, basket1, basket2, basket3):\n",
    "        self.clothes = basket1\n",
    "        self.electronics = basket2\n",
    "        self.other = basket3\n",
    "\n",
    "shantanu = Cart(['paint', 'shirt','t-shirt'],['earphone','mobile'],['chair'])   \n",
    "\n",
    "print(len(shantanu))"
   ]
  },
  {
   "cell_type": "markdown",
   "metadata": {},
   "source": [
    "* create `len function` to print the length"
   ]
  },
  {
   "cell_type": "code",
   "execution_count": 7,
   "metadata": {},
   "outputs": [
    {
     "name": "stdout",
     "output_type": "stream",
     "text": [
      "total number of items in cart\n",
      "6\n"
     ]
    }
   ],
   "source": [
    "class Cart:\n",
    "    def __init__(self, basket1, basket2, basket3):\n",
    "        self.clothes = basket1\n",
    "        self.electronics = basket2\n",
    "        self.other = basket3\n",
    "\n",
    "    def __len__(self):\n",
    "        print(\"total number of items in cart\")\n",
    "        # print (len(self.clothes) + len(self.electronics) + len(self.other))\n",
    "        return len(self.clothes) + len(self.electronics) + len(self.other)\n",
    "\n",
    "shantanu = Cart(['paint', 'shirt','t-shirt'],['earphone','mobile'],['chair'])   \n",
    "\n",
    "print(len(shantanu))"
   ]
  }
 ],
 "metadata": {
  "kernelspec": {
   "display_name": "base",
   "language": "python",
   "name": "python3"
  },
  "language_info": {
   "codemirror_mode": {
    "name": "ipython",
    "version": 3
   },
   "file_extension": ".py",
   "mimetype": "text/x-python",
   "name": "python",
   "nbconvert_exporter": "python",
   "pygments_lexer": "ipython3",
   "version": "3.12.4"
  }
 },
 "nbformat": 4,
 "nbformat_minor": 2
}

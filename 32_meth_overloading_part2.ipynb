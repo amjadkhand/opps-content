{
 "cells": [
  {
   "cell_type": "markdown",
   "metadata": {},
   "source": [
    "# Method Overloading in Python Part-2"
   ]
  },
  {
   "cell_type": "markdown",
   "metadata": {},
   "source": [
    "## `How to achieve method overloading?`\n",
    "\n",
    "`Note:` In Python method overloading not exist, `But how we achieved this`\n",
    "\n",
    "* To overload calss method, we need to write method's logic so that different code execute inside the method according to parameters provided\n",
    "\n",
    "# Example"
   ]
  },
  {
   "cell_type": "markdown",
   "metadata": {},
   "source": [
    "always last define function execute"
   ]
  },
  {
   "cell_type": "code",
   "execution_count": 1,
   "metadata": {},
   "outputs": [
    {
     "ename": "TypeError",
     "evalue": "Calci() takes no arguments",
     "output_type": "error",
     "traceback": [
      "\u001b[1;31m---------------------------------------------------------------------------\u001b[0m",
      "\u001b[1;31mTypeError\u001b[0m                                 Traceback (most recent call last)",
      "Cell \u001b[1;32mIn[1], line 8\u001b[0m\n\u001b[0;32m      5\u001b[0m     \u001b[38;5;28;01mdef\u001b[39;00m \u001b[38;5;21madd\u001b[39m(\u001b[38;5;28mself\u001b[39m, num1, num2,num3):\n\u001b[0;32m      6\u001b[0m         \u001b[38;5;28mprint\u001b[39m(\u001b[38;5;124m\"\u001b[39m\u001b[38;5;124maddition is:\u001b[39m\u001b[38;5;124m\"\u001b[39m, num1\u001b[38;5;241m+\u001b[39mnum2\u001b[38;5;241m+\u001b[39mnum3)\n\u001b[1;32m----> 8\u001b[0m c1 \u001b[38;5;241m=\u001b[39m \u001b[43mCalci\u001b[49m\u001b[43m(\u001b[49m\u001b[38;5;241;43m10\u001b[39;49m\u001b[43m,\u001b[49m\u001b[38;5;241;43m20\u001b[39;49m\u001b[43m)\u001b[49m        \n\u001b[0;32m      9\u001b[0m c1 \u001b[38;5;241m=\u001b[39m Calci(\u001b[38;5;241m10\u001b[39m,\u001b[38;5;241m20\u001b[39m,\u001b[38;5;241m30\u001b[39m)        \n",
      "\u001b[1;31mTypeError\u001b[0m: Calci() takes no arguments"
     ]
    }
   ],
   "source": [
    "class Calci:\n",
    "    def add(self, num1, num2):\n",
    "        print(\"addition is:\", num1+num2)\n",
    "\n",
    "    def add(self, num1, num2,num3):\n",
    "        print(\"addition is:\", num1+num2+num3)\n",
    "\n",
    "c1 = Calci(10,20)        \n",
    "c1 = Calci(10,20,30)        "
   ]
  },
  {
   "cell_type": "markdown",
   "metadata": {},
   "source": [
    "`we achieved this by using if else statement`"
   ]
  },
  {
   "cell_type": "code",
   "execution_count": 7,
   "metadata": {},
   "outputs": [
    {
     "name": "stdout",
     "output_type": "stream",
     "text": [
      "Addition is: 40\n",
      "Addition is: 70\n"
     ]
    }
   ],
   "source": [
    "class Calci:\n",
    "    def add(self,num1=None,num2=None,num3=None):\n",
    "        if num1!=None and num2 !=None and num3 !=None:\n",
    "            print(\"Addition is:\", num2 + num2 + num3)\n",
    "        elif num1!=None and num2 !=None:\n",
    "         print(\"Addition is:\", num2 + num2)\n",
    "        else:\n",
    "           print(\"incorrect parameters provided\")\n",
    "\n",
    "c1 = Calci()\n",
    "c1.add(10,20)           \n",
    "c1.add(10,20,30)           "
   ]
  },
  {
   "cell_type": "markdown",
   "metadata": {},
   "source": [
    "`Take input form the users`"
   ]
  },
  {
   "cell_type": "markdown",
   "metadata": {},
   "source": [
    "`calculate area`"
   ]
  },
  {
   "cell_type": "code",
   "execution_count": 12,
   "metadata": {},
   "outputs": [
    {
     "ename": "TypeError",
     "evalue": "Area.area() missing 1 required positional argument: 'b'",
     "output_type": "error",
     "traceback": [
      "\u001b[1;31m---------------------------------------------------------------------------\u001b[0m",
      "\u001b[1;31mTypeError\u001b[0m                                 Traceback (most recent call last)",
      "Cell \u001b[1;32mIn[12], line 9\u001b[0m\n\u001b[0;32m      6\u001b[0m         \u001b[38;5;28mprint\u001b[39m(\u001b[38;5;124m\"\u001b[39m\u001b[38;5;124mArea of rectangle is:\u001b[39m\u001b[38;5;124m\"\u001b[39m,l\u001b[38;5;241m*\u001b[39mb)\n\u001b[0;32m      8\u001b[0m a \u001b[38;5;241m=\u001b[39m Area()\n\u001b[1;32m----> 9\u001b[0m \u001b[43ma\u001b[49m\u001b[38;5;241;43m.\u001b[39;49m\u001b[43marea\u001b[49m\u001b[43m(\u001b[49m\u001b[38;5;241;43m10\u001b[39;49m\u001b[43m)\u001b[49m        \n\u001b[0;32m     10\u001b[0m a\u001b[38;5;241m.\u001b[39marea(\u001b[38;5;241m10\u001b[39m,\u001b[38;5;241m20\u001b[39m)        \n",
      "\u001b[1;31mTypeError\u001b[0m: Area.area() missing 1 required positional argument: 'b'"
     ]
    }
   ],
   "source": [
    "class Area:\n",
    "    def area(self,l):\n",
    "        print(\"Area of square is:\",l*l)\n",
    "\n",
    "    def area(self,l,b):\n",
    "        print(\"Area of rectangle is:\",l*b)\n",
    "\n",
    "a = Area()\n",
    "a.area(10)        \n",
    "a.area(10,20)        "
   ]
  },
  {
   "cell_type": "markdown",
   "metadata": {},
   "source": [
    "`resolve overloading method`"
   ]
  },
  {
   "cell_type": "code",
   "execution_count": 13,
   "metadata": {},
   "outputs": [
    {
     "name": "stdout",
     "output_type": "stream",
     "text": [
      "Area of square is: 100\n",
      "Area of rectangle is: 200\n"
     ]
    }
   ],
   "source": [
    "class Area:\n",
    "    def area(self,l=0, b=0):\n",
    "        if l>0 and b>0:\n",
    "            print(\"Area of rectangle is:\",l*b)\n",
    "        elif l>0 and b==0:\n",
    "            print(\"Area of square is:\",l*l)  \n",
    "\n",
    "a = Area()\n",
    "a.area(10)        \n",
    "a.area(10,20)              "
   ]
  }
 ],
 "metadata": {
  "kernelspec": {
   "display_name": "base",
   "language": "python",
   "name": "python3"
  },
  "language_info": {
   "codemirror_mode": {
    "name": "ipython",
    "version": 3
   },
   "file_extension": ".py",
   "mimetype": "text/x-python",
   "name": "python",
   "nbconvert_exporter": "python",
   "pygments_lexer": "ipython3",
   "version": "3.12.4"
  }
 },
 "nbformat": 4,
 "nbformat_minor": 2
}

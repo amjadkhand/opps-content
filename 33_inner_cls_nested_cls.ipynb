{
 "cells": [
  {
   "cell_type": "markdown",
   "metadata": {},
   "source": [
    "# What is Nested class?\n",
    "- The class which is declared inside another class."
   ]
  },
  {
   "cell_type": "markdown",
   "metadata": {},
   "source": [
    "`class University:\n",
    "      # University calss members\n",
    "      class College:\n",
    "           # College class members`"
   ]
  },
  {
   "cell_type": "markdown",
   "metadata": {},
   "source": [
    "# Why it is required..?\n",
    "When one class object cannot exist without another class object"
   ]
  },
  {
   "cell_type": "code",
   "execution_count": 12,
   "metadata": {},
   "outputs": [
    {
     "name": "stdout",
     "output_type": "stream",
     "text": [
      "outer class constructor called\n",
      "This is outer class display method\n",
      "\n"
     ]
    },
    {
     "ename": "AttributeError",
     "evalue": "'Outer' object has no attribute 'show'",
     "output_type": "error",
     "traceback": [
      "\u001b[1;31m---------------------------------------------------------------------------\u001b[0m",
      "\u001b[1;31mAttributeError\u001b[0m                            Traceback (most recent call last)",
      "Cell \u001b[1;32mIn[12], line 20\u001b[0m\n\u001b[0;32m     16\u001b[0m obj\u001b[38;5;241m.\u001b[39mdisplay()  \n\u001b[0;32m     17\u001b[0m \u001b[38;5;28mprint\u001b[39m()\n\u001b[1;32m---> 20\u001b[0m \u001b[43mobj\u001b[49m\u001b[38;5;241;43m.\u001b[39;49m\u001b[43mshow\u001b[49m()\n",
      "\u001b[1;31mAttributeError\u001b[0m: 'Outer' object has no attribute 'show'"
     ]
    }
   ],
   "source": [
    "class Outer:\n",
    "    def __init__(self):\n",
    "        print(\"outer class constructor called\")\n",
    "\n",
    "    def display(self):\n",
    "        print(\"This is outer class display method\")\n",
    "\n",
    "    class Inner:\n",
    "        def __init__(self):\n",
    "            print(\"Inner class constructor called\")\n",
    "\n",
    "        def show(self):\n",
    "          print(\"This is inner class show method\")   \n",
    "\n",
    "obj = Outer()  \n",
    "obj.display()  \n",
    "print()\n",
    "\n",
    "\n",
    "obj.show()\n",
    " "
   ]
  },
  {
   "cell_type": "markdown",
   "metadata": {},
   "source": [
    "`Create inner class object by using the reference of outer class`"
   ]
  },
  {
   "cell_type": "code",
   "execution_count": 11,
   "metadata": {},
   "outputs": [
    {
     "name": "stdout",
     "output_type": "stream",
     "text": [
      "outer class constructor called\n",
      "This is display method\n",
      "\n",
      "Inner class constructor called\n",
      "This is show method\n"
     ]
    }
   ],
   "source": [
    "class Outer:\n",
    "    def __init__(self):\n",
    "        print(\"outer class constructor called\")\n",
    "\n",
    "    def display(self):\n",
    "        print(\"This is outer class display method\")\n",
    "\n",
    "    class Inner:\n",
    "        def __init__(self):\n",
    "            print(\"Inner class constructor called\")\n",
    "\n",
    "        def show(self):\n",
    "            print(\"Inner class constructor called\")   \n",
    "\n",
    "obj = Outer()   \n",
    "obj.display() \n",
    "\n",
    "print()\n",
    "\n",
    "innr=obj.Inner()\n",
    "innr.show()\n",
    "\n"
   ]
  },
  {
   "cell_type": "markdown",
   "metadata": {},
   "source": [
    "### another `Example`"
   ]
  },
  {
   "cell_type": "code",
   "execution_count": 15,
   "metadata": {},
   "outputs": [
    {
     "name": "stdout",
     "output_type": "stream",
     "text": [
      "{'name': 'Ajay', 'roll': 101}\n"
     ]
    }
   ],
   "source": [
    "class Student:\n",
    "    def __init__(self,name,roll):\n",
    "        self.name = name\n",
    "        self.roll = roll\n",
    "\n",
    "    class DOB:\n",
    "        def __init__(self,dd,mm,yy):\n",
    "            self.date = dd\n",
    "            self.month = mm\n",
    "            self.year = yy\n",
    "\n",
    "        def display(self):\n",
    "            print(f\"Date of birth is: {self.date} - {self.month} - {self.year}\") \n",
    "\n",
    "s1 = Student('Ajay',101)   \n",
    "print(s1.__dict__)        "
   ]
  },
  {
   "cell_type": "markdown",
   "metadata": {},
   "source": [
    "* Create `inner` class object in `outer` class by using the reference and pass the parameter of inner class in outer class\n",
    "* create a method function in outer class and call the method function of inner class "
   ]
  },
  {
   "cell_type": "code",
   "execution_count": 26,
   "metadata": {},
   "outputs": [
    {
     "name": "stdout",
     "output_type": "stream",
     "text": [
      "name is Ajay and role no is 101\n",
      "Date of birth is: 15 / 6 / 1993\n"
     ]
    }
   ],
   "source": [
    "class Student:\n",
    "    def __init__(self,name,roll,date,month,year):\n",
    "        self.name = name\n",
    "        self.roll = roll\n",
    "\n",
    "# inner class object\n",
    "        self.dob = self.DOB(date,month,year)\n",
    "\n",
    "    def display(self):\n",
    "        print(f\"name is {self.name} and role no is {self.roll}\")\n",
    "        # inner class object\n",
    "        self.dob.display()   \n",
    "        \n",
    "    class DOB:\n",
    "        def __init__(self,date,month,year):\n",
    "            self.date = date\n",
    "            self.month = month\n",
    "            self.year = year\n",
    "\n",
    "        def display(self):\n",
    "            print(f\"Date of birth is: {self.date} / {self.month} / {self.year}\") \n",
    "\n",
    "s1 = Student('Ajay',101,15,6,1993) \n",
    "s1.display()\n"
   ]
  }
 ],
 "metadata": {
  "kernelspec": {
   "display_name": "base",
   "language": "python",
   "name": "python3"
  },
  "language_info": {
   "codemirror_mode": {
    "name": "ipython",
    "version": 3
   },
   "file_extension": ".py",
   "mimetype": "text/x-python",
   "name": "python",
   "nbconvert_exporter": "python",
   "pygments_lexer": "ipython3",
   "version": "3.12.4"
  }
 },
 "nbformat": 4,
 "nbformat_minor": 2
}

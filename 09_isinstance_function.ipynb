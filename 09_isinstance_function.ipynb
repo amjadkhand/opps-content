{
 "cells": [
  {
   "cell_type": "markdown",
   "metadata": {},
   "source": [
    "* isinstance() function"
   ]
  },
  {
   "cell_type": "code",
   "execution_count": 2,
   "metadata": {},
   "outputs": [
    {
     "name": "stdout",
     "output_type": "stream",
     "text": [
      "True\n",
      "False\n"
     ]
    }
   ],
   "source": [
    "class Demo:\n",
    "    pass\n",
    "\n",
    "\n",
    "class Employee:\n",
    "    '''This is employee class for maintaining employee data'''\n",
    "    def __init__(self, salary, age):\n",
    "        self.salary = salary\n",
    "        self.age = age\n",
    "\n",
    "    def display(self): \n",
    "        print(f\"salary is {self.salary} and age is {self.age}\")\n",
    "\n",
    "\n",
    "e1 = Employee(24000, 21)\n",
    "e2 = Employee(26000, 26)\n",
    "\n",
    "d1 = Demo()\n",
    "\n",
    "print(isinstance(e1, Employee))\n",
    "\n",
    "print(isinstance(d1, Employee))\n"
   ]
  },
  {
   "cell_type": "markdown",
   "metadata": {},
   "source": [
    "mostly isinstance used with if statement"
   ]
  },
  {
   "cell_type": "code",
   "execution_count": null,
   "metadata": {},
   "outputs": [],
   "source": [
    "class Employee:\n",
    "    '''This is employee class for maintaining employee data'''\n",
    "    def __init__(self, salary, age):\n",
    "        self.salary = salary\n",
    "        self.age = age\n",
    "\n",
    "    def display(self): \n",
    "        print(f\"salary is {self.salary} and age is {self.age}\")\n",
    "\n",
    "\n",
    "e1 = Employee(24000, 21)\n",
    "e2 = Employee(26000, 26)\n",
    "\n",
    "if isinstance(d1, Employee):\n",
    "    pass"
   ]
  }
 ],
 "metadata": {
  "kernelspec": {
   "display_name": "base",
   "language": "python",
   "name": "python3"
  },
  "language_info": {
   "codemirror_mode": {
    "name": "ipython",
    "version": 3
   },
   "file_extension": ".py",
   "mimetype": "text/x-python",
   "name": "python",
   "nbconvert_exporter": "python",
   "pygments_lexer": "ipython3",
   "version": "3.12.4"
  }
 },
 "nbformat": 4,
 "nbformat_minor": 2
}

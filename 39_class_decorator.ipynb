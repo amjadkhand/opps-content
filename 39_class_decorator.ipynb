{
 "cells": [
  {
   "cell_type": "markdown",
   "metadata": {},
   "source": [
    "# Class Decorator"
   ]
  },
  {
   "cell_type": "code",
   "execution_count": 1,
   "metadata": {},
   "outputs": [
    {
     "name": "stdout",
     "output_type": "stream",
     "text": [
      "60\n"
     ]
    },
    {
     "ename": "TypeError",
     "evalue": "unsupported operand type(s) for +: 'int' and 'str'",
     "output_type": "error",
     "traceback": [
      "\u001b[1;31m---------------------------------------------------------------------------\u001b[0m",
      "\u001b[1;31mTypeError\u001b[0m                                 Traceback (most recent call last)",
      "Cell \u001b[1;32mIn[1], line 8\u001b[0m\n\u001b[0;32m      5\u001b[0m     \u001b[38;5;28;01mreturn\u001b[39;00m sum1  \n\u001b[0;32m      7\u001b[0m \u001b[38;5;28mprint\u001b[39m(add(\u001b[38;5;241m10\u001b[39m,\u001b[38;5;241m20\u001b[39m,\u001b[38;5;241m30\u001b[39m))  \n\u001b[1;32m----> 8\u001b[0m \u001b[38;5;28mprint\u001b[39m(\u001b[43madd\u001b[49m\u001b[43m(\u001b[49m\u001b[38;5;241;43m10\u001b[39;49m\u001b[43m,\u001b[49m\u001b[38;5;124;43m'\u001b[39;49m\u001b[38;5;124;43m20\u001b[39;49m\u001b[38;5;124;43m'\u001b[39;49m\u001b[43m,\u001b[49m\u001b[38;5;241;43m30\u001b[39;49m\u001b[43m)\u001b[49m)  \n",
      "Cell \u001b[1;32mIn[1], line 4\u001b[0m, in \u001b[0;36madd\u001b[1;34m(*args)\u001b[0m\n\u001b[0;32m      2\u001b[0m sum1 \u001b[38;5;241m=\u001b[39m \u001b[38;5;241m0\u001b[39m\n\u001b[0;32m      3\u001b[0m \u001b[38;5;28;01mfor\u001b[39;00m num \u001b[38;5;129;01min\u001b[39;00m args:\n\u001b[1;32m----> 4\u001b[0m     sum1 \u001b[38;5;241m=\u001b[39m \u001b[43msum1\u001b[49m\u001b[43m \u001b[49m\u001b[38;5;241;43m+\u001b[39;49m\u001b[43mnum\u001b[49m\n\u001b[0;32m      5\u001b[0m \u001b[38;5;28;01mreturn\u001b[39;00m sum1\n",
      "\u001b[1;31mTypeError\u001b[0m: unsupported operand type(s) for +: 'int' and 'str'"
     ]
    }
   ],
   "source": [
    "def add(*args):\n",
    "    sum1 = 0\n",
    "    for num in args:\n",
    "        sum1 = sum1 +num\n",
    "    return sum1  \n",
    "\n",
    "print(add(10,20,30))  \n",
    "print(add(10,'20',30))  "
   ]
  },
  {
   "cell_type": "markdown",
   "metadata": {},
   "source": [
    "`create __call__ magic function`"
   ]
  },
  {
   "cell_type": "code",
   "execution_count": 4,
   "metadata": {},
   "outputs": [
    {
     "name": "stdout",
     "output_type": "stream",
     "text": [
      "60\n",
      "Cannot pass strings as arguments\n"
     ]
    },
    {
     "data": {
      "text/plain": [
       "TypeError('Cannot pass strings as arguments')"
      ]
     },
     "execution_count": 4,
     "metadata": {},
     "output_type": "execute_result"
    }
   ],
   "source": [
    "class Decorator(object):\n",
    "    def __init__(self,func):\n",
    "        self.function = func\n",
    "\n",
    "    def __call__(self, *args):\n",
    "        try:\n",
    "            if any([isinstance(i,str) for i in args]):\n",
    "                raise TypeError(\"Cannot pass strings as arguments\")\n",
    "            else:\n",
    "                return self.function(*args)\n",
    "        except Exception as obj:\n",
    "           return obj    \n",
    "\n",
    "@Decorator\n",
    "def add(*args):\n",
    "    sum1 = 0\n",
    "    for num in args:\n",
    "        sum1 = sum1 +num\n",
    "    return sum1  \n",
    "\n",
    "print(add(10,20,30))  \n",
    "print(add(10,'20',30))\n",
    "\n",
    "add = Decorator(add)\n",
    "add(10,'20', 30)"
   ]
  },
  {
   "cell_type": "code",
   "execution_count": null,
   "metadata": {},
   "outputs": [],
   "source": []
  }
 ],
 "metadata": {
  "kernelspec": {
   "display_name": "base",
   "language": "python",
   "name": "python3"
  },
  "language_info": {
   "codemirror_mode": {
    "name": "ipython",
    "version": 3
   },
   "file_extension": ".py",
   "mimetype": "text/x-python",
   "name": "python",
   "nbconvert_exporter": "python",
   "pygments_lexer": "ipython3",
   "version": "3.12.4"
  }
 },
 "nbformat": 4,
 "nbformat_minor": 2
}

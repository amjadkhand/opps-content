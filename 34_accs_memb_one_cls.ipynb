{
 "cells": [
  {
   "cell_type": "markdown",
   "metadata": {},
   "source": [
    "* How to access members of one class into another?"
   ]
  },
  {
   "cell_type": "code",
   "execution_count": 5,
   "metadata": {},
   "outputs": [
    {
     "name": "stdout",
     "output_type": "stream",
     "text": [
      "5000\n",
      "Employee id: 101\n",
      "Employee name: shantnu\n",
      "Employee salary: 7000\n"
     ]
    }
   ],
   "source": [
    "class Employee:\n",
    "    def __init__(self,eid, name, salary):\n",
    "        self.emp_id = eid\n",
    "        self.emp_name = name\n",
    "        self.emp_salary = salary\n",
    "\n",
    "    def display(self):\n",
    "        print(\"Employee id:\", self.emp_id)\n",
    "        print(\"Employee name:\", self.emp_name)\n",
    "        print(\"Employee salary:\", self.emp_salary)\n",
    "\n",
    "class Changes:\n",
    "    @staticmethod\n",
    "    def increment(obj):\n",
    "        obj.emp_salary = obj.emp_salary +2000\n",
    "        obj.display()\n",
    "\n",
    "e1 = Employee(101,'shantnu', 5000)\n",
    "print(e1.emp_salary)\n",
    "Changes.increment(e1)\n",
    "\n"
   ]
  },
  {
   "cell_type": "markdown",
   "metadata": {},
   "source": []
  },
  {
   "cell_type": "code",
   "execution_count": 13,
   "metadata": {},
   "outputs": [
    {
     "name": "stdout",
     "output_type": "stream",
     "text": [
      "5000\n",
      "Employee id: 101\n",
      "Employee name: shantnu\n",
      "Employee salary: 7000\n",
      "Employee id: 101\n",
      "Employee name: shantnu\n",
      "Employee salary: 7000\n"
     ]
    }
   ],
   "source": [
    "class Employee:\n",
    "    def __init__(self,eid, name, salary):\n",
    "        self.emp_id = eid\n",
    "        self.emp_name = name\n",
    "        self.emp_salary = salary\n",
    "\n",
    "    def display(self):\n",
    "        print(\"Employee id:\", self.emp_id)\n",
    "        print(\"Employee name:\", self.emp_name)\n",
    "        print(\"Employee salary:\", self.emp_salary)\n",
    "\n",
    "class Changes:\n",
    "    @staticmethod\n",
    "    def increment(obj):\n",
    "        obj.emp_salary = obj.emp_salary +2000\n",
    "        obj.display()\n",
    "\n",
    "e1 = Employee(101,'shantnu', 5000)\n",
    "print(e1.emp_salary)\n",
    "Changes.increment(e1)\n",
    "e1.display()"
   ]
  }
 ],
 "metadata": {
  "kernelspec": {
   "display_name": "base",
   "language": "python",
   "name": "python3"
  },
  "language_info": {
   "codemirror_mode": {
    "name": "ipython",
    "version": 3
   },
   "file_extension": ".py",
   "mimetype": "text/x-python",
   "name": "python",
   "nbconvert_exporter": "python",
   "pygments_lexer": "ipython3",
   "version": "3.12.4"
  }
 },
 "nbformat": 4,
 "nbformat_minor": 2
}

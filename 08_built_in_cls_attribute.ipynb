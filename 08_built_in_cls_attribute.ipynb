{
 "cells": [
  {
   "cell_type": "markdown",
   "metadata": {},
   "source": [
    "# Following are built-in class attributes:-\n",
    "\n",
    "- __dict__:- Dictionary containing class's namespace\n",
    "\n",
    "- __doc__:- Class documentation string.\n",
    "\n",
    "- __name__:- Class Name\n",
    "\n",
    "- __module__:- Module name in which class is defined\n",
    "\n",
    "- __bases__:- List of base classes "
   ]
  },
  {
   "cell_type": "markdown",
   "metadata": {},
   "source": [
    "## `check upper attribute`"
   ]
  },
  {
   "cell_type": "markdown",
   "metadata": {},
   "source": [
    "1. - __doc__:- Class documentation string."
   ]
  },
  {
   "cell_type": "code",
   "execution_count": 10,
   "metadata": {},
   "outputs": [
    {
     "name": "stdout",
     "output_type": "stream",
     "text": [
      "{'salary': 24000, 'age': 21}\n",
      "\n",
      "This is employee class for maintaining employee data\n",
      "\n",
      "{'__module__': '__main__', '__doc__': 'This is employee class for maintaining employee data', '__init__': <function Employee.__init__ at 0x00000187AEE18860>, 'display': <function Employee.display at 0x00000187AEE1A200>, '__dict__': <attribute '__dict__' of 'Employee' objects>, '__weakref__': <attribute '__weakref__' of 'Employee' objects>}\n",
      "\n",
      "Employee\n",
      "\n",
      "__main__\n"
     ]
    }
   ],
   "source": [
    "class Employee:\n",
    "    '''This is employee class for maintaining employee data'''\n",
    "    def __init__(self, salary, age):\n",
    "        self.salary = salary\n",
    "        self.age = age\n",
    "\n",
    "    def display(self): \n",
    "        print(f\"salary is {self.salary} and age is {self.age}\")\n",
    "\n",
    "\n",
    "e1 = Employee(24000, 21)\n",
    "e2 = Employee(26000, 26)\n",
    "\n",
    "print(e1.__dict__)\n",
    "print()\n",
    "print(Employee.__doc__)\n",
    "print()\n",
    "print(Employee.__dict__)\n",
    "print()\n",
    "print(Employee.__name__)\n",
    "print()\n",
    "print(Employee.__module__)\n"
   ]
  }
 ],
 "metadata": {
  "kernelspec": {
   "display_name": "base",
   "language": "python",
   "name": "python3"
  },
  "language_info": {
   "codemirror_mode": {
    "name": "ipython",
    "version": 3
   },
   "file_extension": ".py",
   "mimetype": "text/x-python",
   "name": "python",
   "nbconvert_exporter": "python",
   "pygments_lexer": "ipython3",
   "version": "3.12.4"
  }
 },
 "nbformat": 4,
 "nbformat_minor": 2
}

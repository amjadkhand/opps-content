{
 "cells": [
  {
   "cell_type": "markdown",
   "metadata": {},
   "source": [
    "# What is the need of @property decorator"
   ]
  },
  {
   "cell_type": "code",
   "execution_count": 1,
   "metadata": {},
   "outputs": [
    {
     "name": "stdout",
     "output_type": "stream",
     "text": [
      "Shantanu\n",
      "Shantanukejkar@gmail.com\n",
      "Shantanu kejkar\n",
      "\n",
      "rajendra\n",
      "rajendrajaiswal@gmail.com\n",
      "rajendra jaiswal\n",
      "\n",
      "Aman\n",
      "Amanthakur@gmail.com\n",
      "Aman thakur\n"
     ]
    }
   ],
   "source": [
    "class Employee:\n",
    "    def __init__(self,first, last):\n",
    "        self.firstname = first\n",
    "        self.lastname = last\n",
    "        self.mail = first + last + \"@gmail.com\"\n",
    "\n",
    "    def fullname(self):\n",
    "        return f\"{self.firstname} {self.lastname}\"\n",
    "\n",
    "e = Employee('Shantanu', 'kejkar')        \n",
    "e1 = Employee('rajendra', 'jaiswal')        \n",
    "e2 = Employee('Aman', 'thakur')\n",
    "\n",
    "print(e.firstname)\n",
    "print(e.mail)\n",
    "print(e.fullname())\n",
    "\n",
    "print()\n",
    "\n",
    "print(e1.firstname)\n",
    "print(e1.mail)\n",
    "print(e1.fullname())\n",
    "\n",
    "print()\n",
    "\n",
    "print(e2.firstname)\n",
    "print(e2.mail)\n",
    "print(e2.fullname())\n",
    "\n"
   ]
  },
  {
   "cell_type": "markdown",
   "metadata": {},
   "source": [
    "change the e object first name"
   ]
  },
  {
   "cell_type": "code",
   "execution_count": 5,
   "metadata": {},
   "outputs": [
    {
     "name": "stdout",
     "output_type": "stream",
     "text": [
      "Jay\n",
      "Shantanukejkar@gmail.com\n",
      "Jay kejkar\n",
      "\n",
      "rajendra\n",
      "rajendrajaiswal@gmail.com\n",
      "rajendra jaiswal\n",
      "\n",
      "Aman\n",
      "Amanthakur@gmail.com\n",
      "Aman thakur\n"
     ]
    }
   ],
   "source": [
    "class Employee:\n",
    "    def __init__(self,first, last):\n",
    "        self.firstname = first\n",
    "        self.lastname = last\n",
    "        self.mail = first + last + \"@gmail.com\"\n",
    "\n",
    "    def fullname(self):\n",
    "        return f\"{self.firstname} {self.lastname}\"\n",
    "\n",
    "e = Employee('Shantanu', 'kejkar')        \n",
    "e1 = Employee('rajendra', 'jaiswal')        \n",
    "e2 = Employee('Aman', 'thakur')\n",
    "\n",
    "e.firstname = 'Jay'\n",
    "\n",
    "print(e.firstname)\n",
    "print(e.mail)\n",
    "print(e.fullname())\n",
    "\n",
    "print()\n",
    "\n",
    "print(e1.firstname)\n",
    "print(e1.mail)\n",
    "print(e1.fullname())\n",
    "\n",
    "print()\n",
    "\n",
    "print(e2.firstname)\n",
    "print(e2.mail)\n",
    "print(e2.fullname())"
   ]
  },
  {
   "cell_type": "markdown",
   "metadata": {},
   "source": [
    "`create a mail method` to change the attribue of the object"
   ]
  },
  {
   "cell_type": "code",
   "execution_count": 7,
   "metadata": {},
   "outputs": [
    {
     "name": "stdout",
     "output_type": "stream",
     "text": [
      "Jay\n",
      "Jay kejkar\n",
      "Jay kejkar\n",
      "\n",
      "rajendra\n",
      "rajendra jaiswal\n",
      "rajendra jaiswal\n",
      "\n",
      "Aman\n",
      "Aman thakur\n",
      "Aman thakur\n"
     ]
    }
   ],
   "source": [
    "class Employee:\n",
    "    def __init__(self,first, last):\n",
    "        self.firstname = first\n",
    "        self.lastname = last\n",
    "        # self.mail = first + last + \"@gmail.com\"\n",
    "\n",
    "   \n",
    "    def mail(self):\n",
    "       return f\"{self.firstname} {self.lastname}@gmail.com\"\n",
    "\n",
    "    def fullname(self):\n",
    "        return f\"{self.firstname} {self.lastname}\"\n",
    "\n",
    "e = Employee('Shantanu', 'kejkar')        \n",
    "e1 = Employee('rajendra', 'jaiswal')        \n",
    "e2 = Employee('Aman', 'thakur')\n",
    "\n",
    "e.firstname = 'Jay'\n",
    "print(e.firstname)\n",
    "print(e.mail())\n",
    "print(e.fullname())\n",
    "\n",
    "print()\n",
    "\n",
    "print(e1.firstname)\n",
    "print(e1.mail())\n",
    "print(e1.fullname())\n",
    "\n",
    "print()\n",
    "\n",
    "print(e2.firstname)\n",
    "print(e2.mail())\n",
    "print(e2.fullname())"
   ]
  },
  {
   "cell_type": "markdown",
   "metadata": {},
   "source": [
    "change other object attribute what you want"
   ]
  },
  {
   "cell_type": "code",
   "execution_count": 7,
   "metadata": {},
   "outputs": [
    {
     "name": "stdout",
     "output_type": "stream",
     "text": [
      "Jay\n",
      "Jay kejkar@gmail.com\n",
      "Jay kejkar\n",
      "\n",
      "rajendra\n",
      "rajendra Rahul@gmail.com\n",
      "rajendra Rahul\n",
      "\n",
      "Aman\n",
      "Aman thakur@gmail.com\n",
      "Aman thakur\n"
     ]
    }
   ],
   "source": [
    "class Employee:\n",
    "    def __init__(self,first, last):\n",
    "        self.firstname = first\n",
    "        self.lastname = last\n",
    "        # self.mail = first + last + \"@gmail.com\"\n",
    "\n",
    "   \n",
    "    def mail(self):\n",
    "       return f\"{self.firstname} {self.lastname}@gmail.com\"\n",
    "    \n",
    "    def fullname(self):\n",
    "        return f\"{self.firstname} {self.lastname}\"\n",
    "\n",
    "e = Employee('Shantanu', 'kejkar')        \n",
    "e1 = Employee('rajendra', 'jaiswal')        \n",
    "e2 = Employee('Aman', 'thakur')\n",
    "\n",
    "e.firstname = 'Jay'\n",
    "print(e.firstname)\n",
    "print(e.mail())\n",
    "print(e.fullname())\n",
    "\n",
    "print()\n",
    "\n",
    "e1.lastname = 'Rahul'\n",
    "print(e1.firstname)\n",
    "print(e1.mail())\n",
    "print(e1.fullname())\n",
    "\n",
    "print()\n",
    "\n",
    "print(e2.firstname)\n",
    "print(e2.mail())\n",
    "print(e2.fullname())"
   ]
  },
  {
   "cell_type": "markdown",
   "metadata": {},
   "source": [
    "`use @property decorator` to avoid manual change and `method convert into attribute`"
   ]
  },
  {
   "cell_type": "code",
   "execution_count": 11,
   "metadata": {},
   "outputs": [
    {
     "name": "stdout",
     "output_type": "stream",
     "text": [
      "Shantanu\n",
      "Shantanu kejkar@gmail.com\n",
      "Shantanu kejkar\n"
     ]
    }
   ],
   "source": [
    "class Employee:\n",
    "    def __init__(self,first, last):\n",
    "        self.firstname = first\n",
    "        self.lastname = last\n",
    "\n",
    "    @property\n",
    "    def mail(self):\n",
    "       return f\"{self.firstname} {self.lastname}@gmail.com\"\n",
    "    \n",
    "\n",
    "    @property\n",
    "    def fullname(self):  # getter method\n",
    "        return f\"{self.firstname} {self.lastname}\"\n",
    "\n",
    "e = Employee('Shantanu', 'kejkar')        \n",
    "e1 = Employee('rajendra', 'jaiswal')        \n",
    "e2 = Employee('Aman', 'thakur')\n",
    "\n",
    "print(e.firstname)\n",
    "print(e.mail)\n",
    "print(e.fullname)\n"
   ]
  },
  {
   "cell_type": "markdown",
   "metadata": {},
   "source": [
    "# `assign values to property decorator`"
   ]
  },
  {
   "cell_type": "code",
   "execution_count": 12,
   "metadata": {},
   "outputs": [
    {
     "name": "stdout",
     "output_type": "stream",
     "text": [
      "Shantanu\n",
      "Shantanu kejkar@gmail.com\n"
     ]
    },
    {
     "ename": "AttributeError",
     "evalue": "property 'fullname' of 'Employee' object has no setter",
     "output_type": "error",
     "traceback": [
      "\u001b[1;31m---------------------------------------------------------------------------\u001b[0m",
      "\u001b[1;31mAttributeError\u001b[0m                            Traceback (most recent call last)",
      "Cell \u001b[1;32mIn[12], line 21\u001b[0m\n\u001b[0;32m     19\u001b[0m \u001b[38;5;28mprint\u001b[39m(e\u001b[38;5;241m.\u001b[39mfirstname)\n\u001b[0;32m     20\u001b[0m \u001b[38;5;28mprint\u001b[39m(e\u001b[38;5;241m.\u001b[39mmail)\n\u001b[1;32m---> 21\u001b[0m \u001b[43me\u001b[49m\u001b[38;5;241;43m.\u001b[39;49m\u001b[43mfullname\u001b[49m \u001b[38;5;241m=\u001b[39m\u001b[38;5;124m'\u001b[39m\u001b[38;5;124mvirat kholi\u001b[39m\u001b[38;5;124m'\u001b[39m\n",
      "\u001b[1;31mAttributeError\u001b[0m: property 'fullname' of 'Employee' object has no setter"
     ]
    }
   ],
   "source": [
    "class Employee:\n",
    "    def __init__(self,first, last):\n",
    "        self.firstname = first\n",
    "        self.lastname = last\n",
    "\n",
    "    @property\n",
    "    def mail(self):\n",
    "       return f\"{self.firstname} {self.lastname}@gmail.com\"\n",
    "    \n",
    "\n",
    "    @property\n",
    "    def fullname(self):  # getter method\n",
    "        return f\"{self.firstname} {self.lastname}\"\n",
    "\n",
    "e = Employee('Shantanu', 'kejkar')        \n",
    "e1 = Employee('rajendra', 'jaiswal')        \n",
    "e2 = Employee('Aman', 'thakur')\n",
    "\n",
    "print(e.firstname)\n",
    "print(e.mail)\n",
    "e.fullname ='virat kholi'"
   ]
  },
  {
   "cell_type": "markdown",
   "metadata": {},
   "source": [
    "resolve this error by creating a `setter method`"
   ]
  },
  {
   "cell_type": "code",
   "execution_count": 17,
   "metadata": {},
   "outputs": [
    {
     "name": "stdout",
     "output_type": "stream",
     "text": [
      "Shantanu\n",
      "Shantanu kejkar@gmail.com\n",
      "____After setting____\n",
      "rajve kumar@gmail.com\n",
      "rajve kumar\n"
     ]
    }
   ],
   "source": [
    "class Employee:\n",
    "    def __init__(self,first, last):\n",
    "        self.firstname = first\n",
    "        self.lastname = last\n",
    "        # self.mail = first + last + \"@gmail.com\"\n",
    "\n",
    "    @property\n",
    "    def mail(self):\n",
    "       return f\"{self.firstname} {self.lastname}@gmail.com\"\n",
    "    \n",
    "\n",
    "    @property\n",
    "    def fullname(self):  # getter method\n",
    "        return f\"{self.firstname} {self.lastname}\"\n",
    "\n",
    "    @fullname.setter\n",
    "    def fullname(self,name):  # setter method\n",
    "        first,last = name.split()\n",
    "        self.firstname = first\n",
    "        self.lastname = last\n",
    "    \n",
    "\n",
    "e = Employee('Shantanu', 'kejkar')        \n",
    "e1 = Employee('rajendra', 'jaiswal')        \n",
    "e2 = Employee('Aman', 'thakur')\n",
    "\n",
    "print(e.firstname)\n",
    "print(e.mail)\n",
    "\n",
    "e.fullname = 'rajve kumar' \n",
    "\n",
    "print(\"____After setting____\")\n",
    "\n",
    "print(e.mail)\n",
    "print(e.fullname)"
   ]
  },
  {
   "cell_type": "markdown",
   "metadata": {},
   "source": [
    "create deleter decorator"
   ]
  },
  {
   "cell_type": "code",
   "execution_count": 18,
   "metadata": {},
   "outputs": [
    {
     "name": "stdout",
     "output_type": "stream",
     "text": [
      "Jay\n",
      "Jay kejkar@gmail.com\n",
      "_____After setting_____\n",
      "rajve kumar@gmail.com\n",
      "rajve kumar\n",
      "_____after deleting______\n",
      "None\n",
      "None None@gmail.com\n"
     ]
    }
   ],
   "source": [
    "class Employee:\n",
    "    def __init__(self,first, last):\n",
    "        self.firstname = first\n",
    "        self.lastname = last\n",
    "\n",
    "    @property\n",
    "    def mail(self):\n",
    "       return f\"{self.firstname} {self.lastname}@gmail.com\"\n",
    "    \n",
    "\n",
    "    @property\n",
    "    def fullname(self):  # getter method\n",
    "        return f\"{self.firstname} {self.lastname}\"\n",
    "\n",
    "    @fullname.setter\n",
    "    def fullname(self,name):  # setter method\n",
    "        first,last = name.split()\n",
    "        self.firstname = first\n",
    "        self.lastname = last\n",
    "\n",
    "    @fullname.deleter\n",
    "    def fullname(self):\n",
    "        self.firstname = None    \n",
    "        self.lastname = None    \n",
    "    \n",
    "\n",
    "e = Employee('Shantanu', 'kejkar')        \n",
    "e1 = Employee('rajendra', 'jaiswal')        \n",
    "e2 = Employee('Aman', 'thakur')\n",
    "\n",
    "e.firstname = 'Jay'\n",
    "print(e.firstname)\n",
    "print(e.mail)\n",
    "\n",
    "e.fullname = 'rajve kumar' \n",
    "\n",
    "print(\"_____After setting_____\")\n",
    "print(e.mail)\n",
    "print(e.fullname)\n",
    "\n",
    "del e.fullname\n",
    "\n",
    "print(\"_____after deleting______\")\n",
    "\n",
    "print(e.firstname)\n",
    "print(e.mail)\n"
   ]
  }
 ],
 "metadata": {
  "kernelspec": {
   "display_name": "base",
   "language": "python",
   "name": "python3"
  },
  "language_info": {
   "codemirror_mode": {
    "name": "ipython",
    "version": 3
   },
   "file_extension": ".py",
   "mimetype": "text/x-python",
   "name": "python",
   "nbconvert_exporter": "python",
   "pygments_lexer": "ipython3",
   "version": "3.12.4"
  }
 },
 "nbformat": 4,
 "nbformat_minor": 2
}

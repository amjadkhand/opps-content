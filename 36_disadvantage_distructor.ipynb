{
 "cells": [
  {
   "cell_type": "markdown",
   "metadata": {},
   "source": [
    "# 1. Circular Referencing\n",
    "\n",
    "- When two objects refer to each other.\n",
    "- Obj1  =  Obj2"
   ]
  },
  {
   "cell_type": "code",
   "execution_count": 1,
   "metadata": {},
   "outputs": [
    {
     "name": "stdout",
     "output_type": "stream",
     "text": [
      "Employee class destructor called\n"
     ]
    }
   ],
   "source": [
    "class Employee:\n",
    "    def __init__(self,obj2):\n",
    "        self.obj2 = obj2\n",
    "        print(\"Employee class destructor called\")\n",
    "\n",
    "class Account:\n",
    "    def __init__(self,num):\n",
    "        self.account_number = num\n",
    "        # pass reference of employee calss constructor\n",
    "        self.obj1 = Employee(self)\n",
    "\n",
    "    def __del__(self):\n",
    "        print(\"Account class destructor called\")\n",
    "\n",
    "acc = Account(1234)        "
   ]
  },
  {
   "cell_type": "markdown",
   "metadata": {},
   "source": [
    "use del by the importing of time"
   ]
  },
  {
   "cell_type": "code",
   "execution_count": 2,
   "metadata": {},
   "outputs": [
    {
     "name": "stdout",
     "output_type": "stream",
     "text": [
      "Employee class destructor called\n"
     ]
    }
   ],
   "source": [
    "import time\n",
    "class Employee:\n",
    "    def __init__(self,obj2):\n",
    "        self.obj2 = obj2\n",
    "        print(\"Employee class destructor called\")\n",
    "\n",
    "class Account:\n",
    "    def __init__(self,num):\n",
    "        self.account_number = num\n",
    "        self.obj1 = Employee(self)\n",
    "\n",
    "    def __del__(self):\n",
    "        print(\"Account class destructor called\")\n",
    "\n",
    "acc = Account(1234) \n",
    "del acc\n",
    "\n",
    "time.sleep(5)"
   ]
  },
  {
   "cell_type": "markdown",
   "metadata": {},
   "source": [
    "---\n",
    "# 2. Exception occurs in `__init__()`\n",
    "\n",
    "- Destructor callec\n",
    "- Object is not initialized and destructor is clearing resources.\n",
    "- May lead to another exception"
   ]
  },
  {
   "cell_type": "code",
   "execution_count": 3,
   "metadata": {},
   "outputs": [
    {
     "ename": "NegativeAge",
     "evalue": "age cannot be negative",
     "output_type": "error",
     "traceback": [
      "\u001b[1;31m---------------------------------------------------------------------------\u001b[0m",
      "\u001b[1;31mNegativeAge\u001b[0m                               Traceback (most recent call last)",
      "Cell \u001b[1;32mIn[3], line 12\u001b[0m\n\u001b[0;32m      9\u001b[0m     \u001b[38;5;28;01mdef\u001b[39;00m \u001b[38;5;21m__del__\u001b[39m(\u001b[38;5;28mself\u001b[39m):\n\u001b[0;32m     10\u001b[0m         \u001b[38;5;28mprint\u001b[39m(\u001b[38;5;124m\"\u001b[39m\u001b[38;5;124mDestructor is called\u001b[39m\u001b[38;5;124m\"\u001b[39m)\n\u001b[1;32m---> 12\u001b[0m age \u001b[38;5;241m=\u001b[39m\u001b[43mAge\u001b[49m\u001b[43m(\u001b[49m\u001b[38;5;241;43m-\u001b[39;49m\u001b[38;5;241;43m10\u001b[39;49m\u001b[43m)\u001b[49m        \n",
      "Cell \u001b[1;32mIn[3], line 7\u001b[0m, in \u001b[0;36mAge.__init__\u001b[1;34m(self, age)\u001b[0m\n\u001b[0;32m      5\u001b[0m \u001b[38;5;28;01mdef\u001b[39;00m \u001b[38;5;21m__init__\u001b[39m(\u001b[38;5;28mself\u001b[39m,age):\n\u001b[0;32m      6\u001b[0m     \u001b[38;5;28;01mif\u001b[39;00m age \u001b[38;5;241m<\u001b[39m \u001b[38;5;241m0\u001b[39m:\n\u001b[1;32m----> 7\u001b[0m         \u001b[38;5;28;01mraise\u001b[39;00m NegativeAge(\u001b[38;5;124m\"\u001b[39m\u001b[38;5;124mage cannot be negative\u001b[39m\u001b[38;5;124m\"\u001b[39m)\n",
      "\u001b[1;31mNegativeAge\u001b[0m: age cannot be negative"
     ]
    }
   ],
   "source": [
    "class NegativeAge(Exception):\n",
    "    pass\n",
    "\n",
    "class Age:\n",
    "    def __init__(self,age):\n",
    "        if age < 0:\n",
    "            raise NegativeAge(\"age cannot be negative\")\n",
    " \n",
    "    def __del__(self):\n",
    "        print(\"Destructor is called\")\n",
    "\n",
    "age =Age(-10)        \n"
   ]
  }
 ],
 "metadata": {
  "kernelspec": {
   "display_name": "base",
   "language": "python",
   "name": "python3"
  },
  "language_info": {
   "codemirror_mode": {
    "name": "ipython",
    "version": 3
   },
   "file_extension": ".py",
   "mimetype": "text/x-python",
   "name": "python",
   "nbconvert_exporter": "python",
   "pygments_lexer": "ipython3",
   "version": "3.12.4"
  }
 },
 "nbformat": 4,
 "nbformat_minor": 2
}

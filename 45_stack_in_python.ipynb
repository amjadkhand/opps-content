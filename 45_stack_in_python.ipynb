{
 "cells": [
  {
   "cell_type": "code",
   "execution_count": 1,
   "metadata": {},
   "outputs": [],
   "source": [
    "class Stack:\n",
    "    def __init__(self,home):\n",
    "        self.stack = [home]\n",
    "    # functon for checking stack is epmty or not\n",
    "    def isEmpty(self):\n",
    "        if len(self.stack) ==0:\n",
    "            return True\n",
    "        else:\n",
    "            return False\n",
    "\n",
    "    # function for getting stack' top element\n",
    "    def get_top(self):\n",
    "        if self.isEmpty():\n",
    "            print(\"Stack is Empty\")\n",
    "        else:\n",
    "            return self.stack[-1]  \n",
    "\n",
    "    # function for push operation\n",
    "    def push(self,ele):\n",
    "        self.stack.append(ele)    \n",
    "\n",
    "    # function for pop operation\n",
    "    def stact_pop(self):\n",
    "        if self.isEmpty():\n",
    "            print(\"Stack is Empty\")\n",
    "            print(\"can't delete\")\n",
    "        else:\n",
    "            deleted_ele = self.stact_pop() \n",
    "            print(deleted_ele, \"got delete\")  \n",
    "\n",
    "    # display all element from stack\n",
    "    def display(my_stack):\n",
    "         x = len(my_stack)\n",
    "         for i in range(x-1, -1,-1):\n",
    "            print(my_stack[i])                        \n",
    "\n",
    "    # function for checking length of stack\n",
    "    def length(my_stact):\n",
    "        return len(my_stact)        \\\n",
    "\n",
    "push(stack,20)            \n",
    "\n"
   ]
  }
 ],
 "metadata": {
  "kernelspec": {
   "display_name": "base",
   "language": "python",
   "name": "python3"
  },
  "language_info": {
   "codemirror_mode": {
    "name": "ipython",
    "version": 3
   },
   "file_extension": ".py",
   "mimetype": "text/x-python",
   "name": "python",
   "nbconvert_exporter": "python",
   "pygments_lexer": "ipython3",
   "version": "3.12.4"
  }
 },
 "nbformat": 4,
 "nbformat_minor": 2
}

{
 "cells": [
  {
   "cell_type": "markdown",
   "metadata": {},
   "source": [
    "# Method Overloading in OOP\n",
    "- When a class contain two or more methods with same name but different behaviour is called as method overloading."
   ]
  },
  {
   "cell_type": "code",
   "execution_count": 3,
   "metadata": {},
   "outputs": [
    {
     "name": "stdout",
     "output_type": "stream",
     "text": [
      "addition is: 30\n"
     ]
    }
   ],
   "source": [
    "class Addition:\n",
    "    def add(self, num1, num2):\n",
    "        print(\"addition is:\", num1+num2)\n",
    "\n",
    "a = Addition()\n",
    "a.add(10,20)        \n",
    "      "
   ]
  },
  {
   "cell_type": "markdown",
   "metadata": {},
   "source": [
    "* `Note:` In python overloading not exist\n",
    "* `In python automatically called last define method`\n"
   ]
  },
  {
   "cell_type": "code",
   "execution_count": 6,
   "metadata": {},
   "outputs": [
    {
     "name": "stdout",
     "output_type": "stream",
     "text": [
      "addition is: 60\n"
     ]
    }
   ],
   "source": [
    "class Addition:\n",
    "    def add(self, num1, num2):\n",
    "        print(\"addition is:\", num1+num2)\n",
    "\n",
    "    def add(self, num1, num2,num3):\n",
    "        print(\"addition is:\", num1+num2+num3)\n",
    "\n",
    "a = Addition()\n",
    "# a.add(10,20)        \n",
    "a.add(10,20,30)  "
   ]
  }
 ],
 "metadata": {
  "kernelspec": {
   "display_name": "base",
   "language": "python",
   "name": "python3"
  },
  "language_info": {
   "codemirror_mode": {
    "name": "ipython",
    "version": 3
   },
   "file_extension": ".py",
   "mimetype": "text/x-python",
   "name": "python",
   "nbconvert_exporter": "python",
   "pygments_lexer": "ipython3",
   "version": "3.12.4"
  }
 },
 "nbformat": 4,
 "nbformat_minor": 2
}

{
 "cells": [
  {
   "cell_type": "markdown",
   "metadata": {},
   "source": [
    "# Types of Inheritance:-\n",
    "\n",
    "- Single Inheritance\n",
    "\n",
    "- Multi-level Inheritance\n",
    "\n",
    "- Hierarchical Inheritance\n",
    "\n",
    "- Multiple Inheritance\n",
    "\n",
    "- Hybrid Inheritance\n",
    "\n",
    "- Cyclic Inheritance\n"
   ]
  },
  {
   "cell_type": "markdown",
   "metadata": {},
   "source": [
    "# `1. Single Inheritance:-`\n",
    "* One Parent and One Child Class"
   ]
  },
  {
   "cell_type": "markdown",
   "metadata": {},
   "source": [
    "# `2. Multi-level Inheritance`\n",
    "\n",
    "* Parent class and child class further inherted into new classes forming multiple levels"
   ]
  },
  {
   "cell_type": "code",
   "execution_count": 9,
   "metadata": {},
   "outputs": [
    {
     "name": "stdout",
     "output_type": "stream",
     "text": [
      "Managers constructor called\n",
      "{'bonus': 342.0}\n"
     ]
    }
   ],
   "source": [
    "class Human_being(object):\n",
    "\n",
    "    def __init__(self):\n",
    "        print(\"Human_being constructor called\")\n",
    "        self.name = input(\"Enter your name\")\n",
    "\n",
    "\n",
    "class Employee(Human_being):\n",
    "    \n",
    "    def __init__(self):\n",
    "        print(\"Employee constructor called\")\n",
    "        self.salary = float(input(\"Enter your salary\"))\n",
    "        \n",
    "\n",
    "class Manager(Employee):\n",
    "    \n",
    "    def __init__(self):\n",
    "        print(\"Managers constructor called\")\n",
    "        self.bonus = float(input(\"Enter your bonus\"))\n",
    "       \n",
    "                \n",
    "\n",
    "m1 = Manager()\n",
    "print(m1.__dict__)"
   ]
  },
  {
   "cell_type": "markdown",
   "metadata": {},
   "source": [
    "# `Get access all the constructor using child class Object`"
   ]
  },
  {
   "cell_type": "code",
   "execution_count": 12,
   "metadata": {},
   "outputs": [
    {
     "name": "stdout",
     "output_type": "stream",
     "text": [
      "Managers constructor called\n",
      "Employee constructor called\n",
      "Human_being constructor called\n",
      "{'bonus': 7463.0, 'salary': 4528902.0, 'name': 'amjad'}\n"
     ]
    }
   ],
   "source": [
    "class Human_being(object):\n",
    "\n",
    "    def __init__(self):\n",
    "        print(\"Human_being constructor called\")\n",
    "        self.name = input(\"Enter your name\")\n",
    "\n",
    "\n",
    "class Employee(Human_being):\n",
    "    \n",
    "    def __init__(self):\n",
    "        print(\"Employee constructor called\")\n",
    "        self.salary = float(input(\"Enter your salary\"))\n",
    "        super().__init__()\n",
    "        \n",
    "\n",
    "class Manager(Employee):\n",
    "    \n",
    "    def __init__(self):\n",
    "        print(\"Managers constructor called\")\n",
    "        self.bonus = float(input(\"Enter your bonus\"))\n",
    "        super().__init__()\n",
    "                \n",
    "\n",
    "m1 = Manager()\n",
    "print(m1.__dict__)\n",
    "\n"
   ]
  },
  {
   "cell_type": "code",
   "execution_count": 13,
   "metadata": {},
   "outputs": [],
   "source": [
    "class Human_being(object):\n",
    "    pass\n",
    "    # def __init__(self):\n",
    "    #     print(\"Human_being constructor called\")\n",
    "    #     self.name = input(\"Enter your name\")\n",
    "\n",
    "\n",
    "class Employee(Human_being):\n",
    "    pass\n",
    "    # def __init__(self):\n",
    "    #     print(\"Employee constructor called\")\n",
    "    #     self.salary = float(input(\"Enter your salary\"))\n",
    "        \n",
    "\n",
    "class Manager(Employee):\n",
    "    pass\n",
    "    # def __init__(self):\n",
    "    #     print(\"Managers constructor called\")\n",
    "    #     self.bonus = float(input(\"Enter your bonus\"))\n",
    "                \n",
    "\n",
    "m1 = Manager()\n"
   ]
  },
  {
   "cell_type": "markdown",
   "metadata": {},
   "source": [
    "# How Upper code works\n",
    "\n",
    "sub say pehly `Manager class ka constructor` check ho ga agar mila to us ko execute kary ga agar na milla to `Employee class ka constructor` check ho ga agra Employee class ka constructor milla to usko execute kary ga, agar na milla to `Human_being class ka constructor` check kary ga agar milla to us ko execute kary ga agar na milla to phr `defaul construct` execute ho ga whiche in the `object`"
   ]
  },
  {
   "cell_type": "markdown",
   "metadata": {},
   "source": [
    "### If we creat a Employee calss contstructor what will be happen"
   ]
  },
  {
   "cell_type": "code",
   "execution_count": 15,
   "metadata": {},
   "outputs": [
    {
     "name": "stdout",
     "output_type": "stream",
     "text": [
      "Employee constructor called\n"
     ]
    },
    {
     "ename": "AttributeError",
     "evalue": "'Employee' object has no attribute 'bonus'",
     "output_type": "error",
     "traceback": [
      "\u001b[1;31m---------------------------------------------------------------------------\u001b[0m",
      "\u001b[1;31mAttributeError\u001b[0m                            Traceback (most recent call last)",
      "Cell \u001b[1;32mIn[15], line 23\u001b[0m\n\u001b[0;32m     21\u001b[0m e1 \u001b[38;5;241m=\u001b[39m Employee()\n\u001b[0;32m     22\u001b[0m \u001b[38;5;66;03m# print(e1.name)\u001b[39;00m\n\u001b[1;32m---> 23\u001b[0m \u001b[38;5;28mprint\u001b[39m(\u001b[43me1\u001b[49m\u001b[38;5;241;43m.\u001b[39;49m\u001b[43mbonus\u001b[49m)\n",
      "\u001b[1;31mAttributeError\u001b[0m: 'Employee' object has no attribute 'bonus'"
     ]
    }
   ],
   "source": [
    "class Human_being(object):\n",
    "    def __init__(self):\n",
    "        print(\"Human_being constructor called\")\n",
    "        self.name = input(\"Enter your name\")\n",
    "\n",
    "\n",
    "class Employee(Human_being):\n",
    "    \n",
    "    def __init__(self):\n",
    "        print(\"Employee constructor called\")\n",
    "        self.salary = float(input(\"Enter your salary\"))\n",
    "        \n",
    "\n",
    "class Manager(Employee):\n",
    "    \n",
    "    def __init__(self):\n",
    "        print(\"Managers constructor called\")\n",
    "        self.bonus = float(input(\"Enter your bonus\"))\n",
    "                \n",
    "\n",
    "e1 = Employee()\n",
    "# # print(e1.name)\n",
    "# print(e1.bonus)"
   ]
  },
  {
   "cell_type": "markdown",
   "metadata": {},
   "source": [
    "then `Manager class` ka constructor call nahi ho ga baqi sara code uper waly code ki trha kam kary ga"
   ]
  },
  {
   "cell_type": "markdown",
   "metadata": {},
   "source": [
    "---\n",
    "# Class Level Variables"
   ]
  },
  {
   "cell_type": "code",
   "execution_count": 24,
   "metadata": {},
   "outputs": [
    {
     "name": "stdout",
     "output_type": "stream",
     "text": [
      "50000\n",
      "Jay\n"
     ]
    }
   ],
   "source": [
    "class Human_being(object):\n",
    " \n",
    "    salary = 10000\n",
    "\n",
    "class Employee(Human_being):\n",
    "    \n",
    "    salary = 20000\n",
    "    name = 'Amjad'\n",
    "    \n",
    "class Manager(Employee):\n",
    "\n",
    "    salary = 50000\n",
    "    name = \"Jay\"\n",
    "    \n",
    "\n",
    "m1 = Manager()\n",
    "print(m1.salary) \n",
    "print(m1.name) "
   ]
  },
  {
   "cell_type": "code",
   "execution_count": 6,
   "metadata": {},
   "outputs": [
    {
     "name": "stdout",
     "output_type": "stream",
     "text": [
      "20000\n",
      "Amjad\n",
      "Jay\n"
     ]
    }
   ],
   "source": [
    "class Human_being(object):\n",
    "    salary = 10000\n",
    "\n",
    "class Employee(Human_being):\n",
    "    salary = 20000\n",
    "    name = 'Amjad'\n",
    "    \n",
    "class Manager(Employee):\n",
    "    salary = 50000\n",
    "    fname = \"Jay\"\n",
    "    \n",
    "\n",
    "e1 = Employee()\n",
    "m1 = Manager()\n",
    "\n",
    "print(e1.salary) \n",
    "print(e1.name)\n",
    "print(m1.fname)"
   ]
  }
 ],
 "metadata": {
  "kernelspec": {
   "display_name": "base",
   "language": "python",
   "name": "python3"
  },
  "language_info": {
   "codemirror_mode": {
    "name": "ipython",
    "version": 3
   },
   "file_extension": ".py",
   "mimetype": "text/x-python",
   "name": "python",
   "nbconvert_exporter": "python",
   "pygments_lexer": "ipython3",
   "version": "3.12.4"
  }
 },
 "nbformat": 4,
 "nbformat_minor": 2
}

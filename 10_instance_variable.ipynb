{
 "cells": [
  {
   "cell_type": "markdown",
   "metadata": {},
   "source": [
    "# Types of variables:-\n",
    "\n",
    "1. Instance Variables\n",
    "2. Class Variables"
   ]
  },
  {
   "cell_type": "markdown",
   "metadata": {},
   "source": [
    "# `1. Instance Variables`\n",
    "\n",
    "- Variables made for particular instance\n",
    "- Separate copy is created for every object\n",
    "- Values of variables differs from object to object\n",
    "- Modification in one object won't effect other objects"
   ]
  },
  {
   "cell_type": "code",
   "execution_count": 2,
   "metadata": {},
   "outputs": [
    {
     "name": "stdout",
     "output_type": "stream",
     "text": [
      "Amjad\n",
      "{'name': 'Taimoor', 'marks': 89}\n"
     ]
    }
   ],
   "source": [
    "class Student:\n",
    "    def __init__(self, name,marks):\n",
    "        self.name = name\n",
    "        self.marks = marks\n",
    "\n",
    "sdt1 = Student(\"Amjad\", 99)    #copy 1     \n",
    "sdt2 = Student(\"Taimoor\", 89)  #copy 2       \n",
    "sdt3 = Student(\"Noman\", 91)    #copy 3\n",
    "\n",
    "print(sdt1.name)\n",
    "print(sdt2.__dict__)"
   ]
  },
  {
   "cell_type": "markdown",
   "metadata": {},
   "source": [
    "* instance variable outside the class"
   ]
  },
  {
   "cell_type": "code",
   "execution_count": 6,
   "metadata": {},
   "outputs": [
    {
     "name": "stdout",
     "output_type": "stream",
     "text": [
      "Amjad\n",
      "{'name': 'Amjad', 'marks': 99}\n",
      "{'name': 'Amjad', 'marks': 99, 'age': 30}\n",
      "{'name': 'Taimoor', 'marks': 89}\n"
     ]
    }
   ],
   "source": [
    "class Student:\n",
    "    def __init__(self, name,marks):\n",
    "        self.name = name\n",
    "        self.marks = marks\n",
    "\n",
    "sdt1 = Student(\"Amjad\", 99)    #copy 1     \n",
    "sdt2 = Student(\"Taimoor\", 89)  #copy 2       \n",
    "sdt3 = Student(\"Noman\", 91)    #copy 3\n",
    "\n",
    "print(sdt1.name)\n",
    "\n",
    "print(sdt1.__dict__)\n",
    "\n",
    "\n",
    "#outside the class\n",
    "\n",
    "sdt1.age =30\n",
    "\n",
    "print(sdt1.__dict__)\n",
    "\n",
    "print(sdt2.__dict__) #sdt2 not have age\n"
   ]
  },
  {
   "cell_type": "markdown",
   "metadata": {},
   "source": [
    "change the name of instance one variable"
   ]
  },
  {
   "cell_type": "code",
   "execution_count": 7,
   "metadata": {},
   "outputs": [
    {
     "name": "stdout",
     "output_type": "stream",
     "text": [
      "Amjad\n",
      "{'name': 'Amjad', 'marks': 99}\n",
      "zahid\n",
      "{'name': 'zahid', 'marks': 99, 'age': 30}\n",
      "{'name': 'Taimoor', 'marks': 89}\n"
     ]
    }
   ],
   "source": [
    "class Student:\n",
    "    def __init__(self, name,marks):\n",
    "        self.name = name\n",
    "        self.marks = marks\n",
    "\n",
    "sdt1 = Student(\"Amjad\", 99)    #copy 1     \n",
    "sdt2 = Student(\"Taimoor\", 89)  #copy 2       \n",
    "sdt3 = Student(\"Noman\", 91)    #copy 3\n",
    "\n",
    "print(sdt1.name)\n",
    "\n",
    "print(sdt1.__dict__)\n",
    "\n",
    "sdt1.name ='zahid'\n",
    "print(sdt1.name)\n",
    "\n",
    "#outside the class\n",
    "\n",
    "sdt1.age =30\n",
    "\n",
    "print(sdt1.__dict__)\n",
    "\n",
    "print(sdt2.__dict__) #sdt2 not have age"
   ]
  },
  {
   "cell_type": "markdown",
   "metadata": {},
   "source": [
    "# `Creating instance variables`\n",
    "\n",
    "- Using Constructor\n",
    "- Using instance method\n",
    "- Outside class"
   ]
  },
  {
   "cell_type": "markdown",
   "metadata": {},
   "source": [
    "# `Using instance method`"
   ]
  },
  {
   "cell_type": "code",
   "execution_count": 11,
   "metadata": {},
   "outputs": [
    {
     "name": "stdout",
     "output_type": "stream",
     "text": [
      "{'name': 'Taimoor', 'marks': 89}\n",
      "Amjad 99\n",
      "Taimoor 89\n"
     ]
    }
   ],
   "source": [
    "class Student:\n",
    "    def __init__(self, name,marks):\n",
    "        self.name = name \n",
    "        self.marks = marks \n",
    "\n",
    "    def display(self):  \n",
    "        print(self.name, self.marks)  \n",
    "\n",
    "sdt1 = Student(\"Amjad\", 99)        \n",
    "sdt2 = Student(\"Taimoor\", 89)        \n",
    "sdt3 = Student(\"Noman\", 91)  \n",
    "\n",
    "print(sdt2.__dict__)\n",
    "sdt1.display()\n",
    "sdt2.display()"
   ]
  },
  {
   "cell_type": "markdown",
   "metadata": {},
   "source": [
    "# change the data by creating a method"
   ]
  },
  {
   "cell_type": "code",
   "execution_count": 18,
   "metadata": {},
   "outputs": [
    {
     "name": "stdout",
     "output_type": "stream",
     "text": [
      "Amjad 99\n",
      "{'name': 'saleem', 'marks': 78}\n",
      "{'name': 'saleem', 'marks': 78}\n"
     ]
    }
   ],
   "source": [
    "class Student:\n",
    "    def __init__(self, name,marks):\n",
    "        self.name = name \n",
    "        self.marks = marks \n",
    "\n",
    "    def display(self):  \n",
    "        print(self.name, self.marks)  \n",
    "\n",
    "    def change_data(self):\n",
    "        self.name = 'saleem'\n",
    "        self.marks = 78\n",
    "\n",
    "sdt1 = Student(\"Amjad\", 99)        \n",
    "sdt2 = Student(\"Taimoor\", 89)        \n",
    "sdt3 = Student(\"Noman\", 91)  \n",
    "\n",
    "sdt1.display()\n",
    "\n",
    "sdt2.change_data()\n",
    "print(sdt2.__dict__)\n",
    "\n",
    "sdt1.change_data()\n",
    "print(sdt1.__dict__)"
   ]
  },
  {
   "cell_type": "markdown",
   "metadata": {},
   "source": [
    "` change the data by creating a method and take input from users`\n"
   ]
  },
  {
   "cell_type": "code",
   "execution_count": 23,
   "metadata": {},
   "outputs": [
    {
     "name": "stdout",
     "output_type": "stream",
     "text": [
      "Taimoor 89\n",
      "{'name': 'kareem', 'marks': 78}\n"
     ]
    }
   ],
   "source": [
    "class Student:\n",
    "    def __init__(self, name,marks):\n",
    "        self.name = name \n",
    "        self.marks = marks \n",
    "\n",
    "    def display(self):  \n",
    "        print(self.name, self.marks)  \n",
    "        \n",
    "    def change_data(self):\n",
    "        self.name = input(\"enter new name\")\n",
    "        self.marks = int(input(\"enter marks\"))\n",
    "\n",
    "sdt1 = Student(\"Amjad\", 99)        \n",
    "sdt2 = Student(\"Taimoor\", 89)        \n",
    "sdt3 = Student(\"Noman\", 91)  \n",
    "\n",
    "sdt2.display()\n",
    "\n",
    "sdt2.change_data()\n",
    "print(sdt2.__dict__)\n",
    "\n",
    "# sdt1.change_data()\n",
    "# print(sdt1.__dict__)"
   ]
  }
 ],
 "metadata": {
  "kernelspec": {
   "display_name": "base",
   "language": "python",
   "name": "python3"
  },
  "language_info": {
   "codemirror_mode": {
    "name": "ipython",
    "version": 3
   },
   "file_extension": ".py",
   "mimetype": "text/x-python",
   "name": "python",
   "nbconvert_exporter": "python",
   "pygments_lexer": "ipython3",
   "version": "3.12.4"
  }
 },
 "nbformat": 4,
 "nbformat_minor": 2
}

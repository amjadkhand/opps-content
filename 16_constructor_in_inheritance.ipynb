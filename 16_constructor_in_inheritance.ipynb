{
 "cells": [
  {
   "cell_type": "markdown",
   "metadata": {},
   "source": [
    " # How constructor works in inheritance\n",
    " By default, constructor of parent class available to child class"
   ]
  },
  {
   "cell_type": "code",
   "execution_count": 6,
   "metadata": {},
   "outputs": [
    {
     "name": "stdout",
     "output_type": "stream",
     "text": [
      "father constructor called\n",
      "scooter\n"
     ]
    }
   ],
   "source": [
    "class Father:\n",
    "    # father class constructor\n",
    "    def __init__(self):\n",
    "        print(\"father constructor called\")\n",
    "        self.vehicle = 'scooter'\n",
    "\n",
    "class Son(Father):\n",
    "    pass\n",
    "\n",
    "s = Son()\n",
    "print(s.vehicle)\n",
    "print(s.__dict__)"
   ]
  },
  {
   "cell_type": "markdown",
   "metadata": {},
   "source": [
    "constructor in son class"
   ]
  },
  {
   "cell_type": "code",
   "execution_count": 2,
   "metadata": {},
   "outputs": [
    {
     "name": "stdout",
     "output_type": "stream",
     "text": [
      "Son constructo called\n",
      "BMW\n",
      "{'vehicle': 'BMW'}\n"
     ]
    }
   ],
   "source": [
    "class Father:\n",
    "    # father class constructor\n",
    "    def __init__(self):\n",
    "        print(\"father constructo called\")\n",
    "        self.vehicle = 'scooter'\n",
    "\n",
    "# father class constructor\n",
    "class Son(Father):\n",
    "    def __init__(self):\n",
    "        print(\"Son constructo called\")\n",
    "        self.vehicle = 'BMW'\n",
    "        \n",
    "        \n",
    "s = Son()\n",
    "print(s.vehicle)\n",
    "print(s.__dict__)"
   ]
  },
  {
   "cell_type": "markdown",
   "metadata": {},
   "source": [
    "## `to print father class constructor in son class constructor`"
   ]
  },
  {
   "cell_type": "code",
   "execution_count": null,
   "metadata": {},
   "outputs": [],
   "source": [
    "class Father:\n",
    "    # father class constructor\n",
    "    def __init__(self):\n",
    "        print(\"father constructo called\")\n",
    "        self.vehicle = 'scooter'\n",
    "\n",
    "# father class constructor\n",
    "class Son(Father):\n",
    "    def __init__(self):\n",
    "        print(\"Son constructo called\")\n",
    "        self.vehicle = 'BMW'\n",
    "        super().__init__() \n",
    "        \n",
    "s = Son()\n",
    "print(s.vehicle)\n",
    "print(s.__dict__)"
   ]
  }
 ],
 "metadata": {
  "kernelspec": {
   "display_name": "base",
   "language": "python",
   "name": "python3"
  },
  "language_info": {
   "codemirror_mode": {
    "name": "ipython",
    "version": 3
   },
   "file_extension": ".py",
   "mimetype": "text/x-python",
   "name": "python",
   "nbconvert_exporter": "python",
   "pygments_lexer": "ipython3",
   "version": "3.12.4"
  }
 },
 "nbformat": 4,
 "nbformat_minor": 2
}

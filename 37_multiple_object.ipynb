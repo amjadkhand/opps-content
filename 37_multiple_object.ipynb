{
 "cells": [
  {
   "cell_type": "markdown",
   "metadata": {},
   "source": [
    "# Example\n",
    "\n",
    "- Create a Movie class\n",
    "- Create Multiple movie objects\n",
    "- Add these objects to list\n",
    "- Try to get objects one by one from list and print data"
   ]
  },
  {
   "cell_type": "code",
   "execution_count": 4,
   "metadata": {},
   "outputs": [
    {
     "name": "stdout",
     "output_type": "stream",
     "text": [
      "Movie added into the list\n",
      "All movies information\n",
      "Title is : fsdeysj\n",
      "runtime is : 48383\n",
      "hero is: djhshs\n"
     ]
    }
   ],
   "source": [
    "class Movie(object):\n",
    "    def __init__(self,title, mins,hero):\n",
    "        self.title = title\n",
    "        self.runtime = mins\n",
    "        self.hero = hero\n",
    "\n",
    "    def printer(self):\n",
    "        print(f\"Title is : {self.title}\\nruntime is : {self.runtime}\\nhero is: {self.hero}\")\n",
    "\n",
    "list_of_movies=[]\n",
    "while True:\n",
    "    title = input(\"Enter the title of movie:\")            \n",
    "    mins = input(\"Enter the runtime of movie:\")            \n",
    "    hero = input(\"Enter the name of hero of  movie:\")\n",
    "    \n",
    "    obj = Movie(title, mins,hero)\n",
    "    list_of_movies.append(obj)\n",
    "    print(\"Movie added into the list\")\n",
    "    \n",
    "    ans = input(\"Do you want to add another movie(y/n)\")\n",
    "    if ans!='y':\n",
    "        break\n",
    "\n",
    "print(\"All movies information\")\n",
    "for obj in list_of_movies:\n",
    "    obj.printer()\n",
    "\n"
   ]
  }
 ],
 "metadata": {
  "kernelspec": {
   "display_name": "base",
   "language": "python",
   "name": "python3"
  },
  "language_info": {
   "codemirror_mode": {
    "name": "ipython",
    "version": 3
   },
   "file_extension": ".py",
   "mimetype": "text/x-python",
   "name": "python",
   "nbconvert_exporter": "python",
   "pygments_lexer": "ipython3",
   "version": "3.12.4"
  }
 },
 "nbformat": 4,
 "nbformat_minor": 2
}

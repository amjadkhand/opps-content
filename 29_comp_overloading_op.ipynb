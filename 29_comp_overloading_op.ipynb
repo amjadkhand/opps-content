{
 "cells": [
  {
   "cell_type": "markdown",
   "metadata": {},
   "source": [
    "# overloading operator"
   ]
  },
  {
   "cell_type": "code",
   "execution_count": 1,
   "metadata": {},
   "outputs": [
    {
     "ename": "TypeError",
     "evalue": "'>' not supported between instances of 'Hotel' and 'Hotel'",
     "output_type": "error",
     "traceback": [
      "\u001b[1;31m---------------------------------------------------------------------------\u001b[0m",
      "\u001b[1;31mTypeError\u001b[0m                                 Traceback (most recent call last)",
      "Cell \u001b[1;32mIn[1], line 9\u001b[0m\n\u001b[0;32m      6\u001b[0m h1 \u001b[38;5;241m=\u001b[39m Hotel(\u001b[38;5;124m\"\u001b[39m\u001b[38;5;124mTaj hotel\u001b[39m\u001b[38;5;124m\"\u001b[39m, \u001b[38;5;241m20000\u001b[39m)        \n\u001b[0;32m      7\u001b[0m h2 \u001b[38;5;241m=\u001b[39m Hotel(\u001b[38;5;124m\"\u001b[39m\u001b[38;5;124mpanchratna\u001b[39m\u001b[38;5;124m\"\u001b[39m, \u001b[38;5;241m10000\u001b[39m)  \n\u001b[1;32m----> 9\u001b[0m \u001b[38;5;28mprint\u001b[39m(\u001b[43mh1\u001b[49m\u001b[38;5;241;43m>\u001b[39;49m\u001b[43mh2\u001b[49m)\n",
      "\u001b[1;31mTypeError\u001b[0m: '>' not supported between instances of 'Hotel' and 'Hotel'"
     ]
    }
   ],
   "source": [
    "class Hotel:\n",
    "    def __init__(self, name, fare):\n",
    "        self.name = name\n",
    "        self.fare = fare\n",
    "\n",
    "h1 = Hotel(\"Taj hotel\", 20000)        \n",
    "h2 = Hotel(\"panchratna\", 10000)  \n",
    "\n",
    "print(h1>h2)"
   ]
  },
  {
   "cell_type": "markdown",
   "metadata": {},
   "source": [
    "`let overload the operator`"
   ]
  },
  {
   "cell_type": "code",
   "execution_count": 2,
   "metadata": {},
   "outputs": [
    {
     "name": "stdout",
     "output_type": "stream",
     "text": [
      "True\n"
     ]
    }
   ],
   "source": [
    "class Hotel:\n",
    "    def __init__(self, name, fare):\n",
    "        self.name = name\n",
    "        self.fare = fare\n",
    "\n",
    "    def __gt__(self, other): #(h1,h2)\n",
    "        return self.fare < other.fare   \n",
    "\n",
    "h1 = Hotel(\"Taj hotel\", 20000)        \n",
    "h2 = Hotel(\"panchratna\", 10000)  \n",
    "\n",
    "print(h1<h2)"
   ]
  }
 ],
 "metadata": {
  "kernelspec": {
   "display_name": "base",
   "language": "python",
   "name": "python3"
  },
  "language_info": {
   "codemirror_mode": {
    "name": "ipython",
    "version": 3
   },
   "file_extension": ".py",
   "mimetype": "text/x-python",
   "name": "python",
   "nbconvert_exporter": "python",
   "pygments_lexer": "ipython3",
   "version": "3.12.4"
  }
 },
 "nbformat": 4,
 "nbformat_minor": 2
}

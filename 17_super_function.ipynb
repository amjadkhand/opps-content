{
 "cells": [
  {
   "cell_type": "markdown",
   "metadata": {},
   "source": [
    "# super () function:-\n",
    "\n",
    "- Using super() function, we can access parent class properties\n",
    "- This function returns a temporary object which contains reference to parent class\n",
    "- It makes inheritance more manageable and extensible."
   ]
  },
  {
   "cell_type": "code",
   "execution_count": 6,
   "metadata": {},
   "outputs": [
    {
     "name": "stdout",
     "output_type": "stream",
     "text": [
      "Computer class constructor called\n",
      "{'ram': '8gb', 'storage': '512gb'}\n"
     ]
    }
   ],
   "source": [
    "class Computer(object):\n",
    "    def __init__(self):\n",
    "        print(\"Computer class constructor called\")\n",
    "        self.ram = '8gb'\n",
    "        self.storage = '512gb'\n",
    "       \n",
    "\n",
    "class Mobile(Computer):\n",
    "    def __init__(self):\n",
    "        self.mobile = 'iphone X'\n",
    "        print(\"Mobile class constructor called\")\n",
    "        \n",
    "\n",
    "apple = Computer()\n",
    "print(apple.__dict__)"
   ]
  },
  {
   "cell_type": "code",
   "execution_count": 10,
   "metadata": {},
   "outputs": [
    {
     "name": "stdout",
     "output_type": "stream",
     "text": [
      "Computer class constructor called\n",
      "Mobile class constructor called\n",
      "{'mobile': 'iphone X'}\n"
     ]
    }
   ],
   "source": [
    "class Computer(object):\n",
    "    print(\"Computer class constructor called\")\n",
    "    def __init__(self):\n",
    "        self.ram = '8gb'\n",
    "        self.storage = '512gb'\n",
    "        \n",
    "\n",
    "class Mobile(Computer):\n",
    "    def __init__(self):\n",
    "        self.mobile = 'iphone X'\n",
    "        print(\"Mobile class constructor called\")\n",
    "        \n",
    "\n",
    "apple = Mobile()\n",
    "print(apple.__dict__)"
   ]
  },
  {
   "cell_type": "markdown",
   "metadata": {},
   "source": [
    "`call super function`"
   ]
  },
  {
   "cell_type": "code",
   "execution_count": 11,
   "metadata": {},
   "outputs": [
    {
     "name": "stdout",
     "output_type": "stream",
     "text": [
      "Mobile class constructor called\n",
      "Computer class constructor called\n",
      "{'mobile': 'iphone X', 'ram': '8gb', 'storage': '512gb'}\n"
     ]
    }
   ],
   "source": [
    "class Computer(object):\n",
    "    def __init__(self):\n",
    "        self.ram = '8gb'\n",
    "        self.storage = '512gb'\n",
    "        print(\"Computer class constructor called\")\n",
    "\n",
    "class Mobile(Computer):\n",
    "    def __init__(self):\n",
    "        self.mobile = 'iphone X'\n",
    "        print(\"Mobile class constructor called\")\n",
    "        super().__init__()\n",
    "  \n",
    "       \n",
    "\n",
    "apple = Mobile()\n",
    "print(apple.__dict__)"
   ]
  },
  {
   "cell_type": "markdown",
   "metadata": {},
   "source": [
    "`super function` witt `parameterize` constructor"
   ]
  },
  {
   "cell_type": "code",
   "execution_count": 17,
   "metadata": {},
   "outputs": [
    {
     "name": "stdout",
     "output_type": "stream",
     "text": [
      "Mobile class constructor called\n",
      "Computer class constructor called\n",
      "{'mobile': 'iphone X', 'ram': '8gb', 'storage': '512gb'}\n"
     ]
    }
   ],
   "source": [
    "class Computer(object):\n",
    "\n",
    "    def __init__(self, ram, storage):\n",
    "        self.ram = ram\n",
    "        self.storage = storage\n",
    "        print(\"Computer class constructor called\")\n",
    "\n",
    "class Mobile(Computer):\n",
    "    def __init__(self):\n",
    "        self.mobile = 'iphone X'\n",
    "        print(\"Mobile class constructor called\")\n",
    "        super().__init__(\"8gb\", \"512gb\")\t\n",
    "  \n",
    "       \n",
    "\n",
    "apple = Mobile()\n",
    "print(apple.__dict__)"
   ]
  }
 ],
 "metadata": {
  "kernelspec": {
   "display_name": "base",
   "language": "python",
   "name": "python3"
  },
  "language_info": {
   "codemirror_mode": {
    "name": "ipython",
    "version": 3
   },
   "file_extension": ".py",
   "mimetype": "text/x-python",
   "name": "python",
   "nbconvert_exporter": "python",
   "pygments_lexer": "ipython3",
   "version": "3.12.4"
  }
 },
 "nbformat": 4,
 "nbformat_minor": 2
}

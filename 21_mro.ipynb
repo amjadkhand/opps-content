{
 "cells": [
  {
   "cell_type": "markdown",
   "metadata": {},
   "source": [
    "# Hybrid Inheritance:-\n",
    "It contains multiple type of inheritance"
   ]
  },
  {
   "cell_type": "markdown",
   "metadata": {},
   "source": [
    "# MRO `(Method Resolution Order)`\n",
    "\n",
    "- MRO represents how properties(attributes + method) are searched inheritance."
   ]
  },
  {
   "cell_type": "markdown",
   "metadata": {},
   "source": [
    "# `MRO Rule`"
   ]
  },
  {
   "cell_type": "markdown",
   "metadata": {},
   "source": [
    "###  `Rule -01: `\n",
    "- Python First search in child class and then goes to parent class\n",
    "- Priority is to child class"
   ]
  },
  {
   "cell_type": "markdown",
   "metadata": {},
   "source": [
    "### `Rule -02:` \n",
    "\n",
    "- MRO Follows 'Depth First Left to Right approach'\n",
    "\n",
    "- mro(o):- Object\n",
    "- mro(A):- A,O\n",
    "- mro(B):- B,O\n",
    "- mro(C):- C,O\n",
    "- mro(X):- X,A,BC,O\n",
    "- mro(Y):- Y,B,C,O"
   ]
  },
  {
   "cell_type": "markdown",
   "metadata": {},
   "source": [
    "### `See upper code in picture` the same rule is appled for constructor searching "
   ]
  },
  {
   "cell_type": "markdown",
   "metadata": {},
   "source": [
    "### `Rule -03: `\n",
    "\n",
    "- You can use `mro()` method for knowing mro of any class objects"
   ]
  },
  {
   "cell_type": "code",
   "execution_count": 1,
   "metadata": {},
   "outputs": [
    {
     "name": "stdout",
     "output_type": "stream",
     "text": [
      "[<class '__main__.P'>, <class '__main__.X'>, <class '__main__.A'>, <class '__main__.Y'>, <class '__main__.B'>, <class '__main__.C'>, <class 'object'>]\n",
      "[<class '__main__.X'>, <class '__main__.A'>, <class '__main__.B'>, <class '__main__.C'>, <class 'object'>]\n"
     ]
    }
   ],
   "source": [
    "class A:\n",
    "    pass\n",
    "\n",
    "class B:\n",
    "    pass\n",
    "\n",
    "class C:\n",
    "    pass\n",
    "\n",
    "class X(A,B,C):\n",
    "    pass\n",
    "\n",
    "class Y(B,C):\n",
    "    pass\n",
    "\n",
    "class P(X,Y):\n",
    "    pass\n",
    "\n",
    "print(P.mro())\n",
    "print(X.mro())"
   ]
  }
 ],
 "metadata": {
  "kernelspec": {
   "display_name": "base",
   "language": "python",
   "name": "python3"
  },
  "language_info": {
   "codemirror_mode": {
    "name": "ipython",
    "version": 3
   },
   "file_extension": ".py",
   "mimetype": "text/x-python",
   "name": "python",
   "nbconvert_exporter": "python",
   "pygments_lexer": "ipython3",
   "version": "3.12.4"
  }
 },
 "nbformat": 4,
 "nbformat_minor": 2
}

{
 "cells": [
  {
   "cell_type": "markdown",
   "metadata": {},
   "source": [
    "# Datatypes\n",
    "  "
   ]
  },
  {
   "cell_type": "markdown",
   "metadata": {},
   "source": [
    "# inti:-\n",
    "* Requires 2 bytes of memory\n",
    "* Operations: Addition, subtraction, division, bitewise"
   ]
  },
  {
   "cell_type": "markdown",
   "metadata": {},
   "source": [
    "# float:-\n",
    "* Requires 4 bytes of memory\n",
    "* Operations: Addition, subtraction, division"
   ]
  },
  {
   "cell_type": "markdown",
   "metadata": {},
   "source": [
    "# User Defined Datatypes\n",
    "You can create your own datatype containing your values and functions\n",
    "\n",
    "# exmaple\n",
    "class, sturcture, union"
   ]
  },
  {
   "cell_type": "code",
   "execution_count": null,
   "metadata": {},
   "outputs": [],
   "source": [
    "class Book:\n",
    "    pages =2000\n",
    "    name = \"One Indial girl\"\n",
    "    author = 'Chetan bhagat'\n",
    "    price = 250\n",
    "    give_discount(how_much)\n"
   ]
  },
  {
   "cell_type": "markdown",
   "metadata": {},
   "source": [
    "# What is ADT?\n",
    "ADT's are like user defined datatypes which define operations on values using functions without specifying what is there inside a function and how operations are performed\n",
    " \n",
    "[10,20,'kamil',20.4]\n",
    "\n",
    "find the length of above list   len(list)"
   ]
  },
  {
   "cell_type": "markdown",
   "metadata": {},
   "source": [
    "# Stack ADT\n",
    "* Operations:-\n",
    "  * Initilise :- Create an instance of stact\n",
    "  * Push:- adds an element at the end\n",
    "  * Pop:- remove element from stack\n",
    "  * IsEmpty:- checks stack is empty or nt?\n",
    "  * isFull:- checks stack is full or not"
   ]
  },
  {
   "cell_type": "markdown",
   "metadata": {},
   "source": [
    "Client Program ------------> Operations Implementations\n",
    "(pop method)                 (code)     \n",
    "\n",
    "You can think ADT as a black box which hides inner sturcture and design of datatypes from user.\n"
   ]
  },
  {
   "cell_type": "markdown",
   "metadata": {},
   "source": [
    "# Advantages\n",
    "* Implementation of stack\n",
    "    * List\n",
    "    * Array\n",
    "    * Linked List\n",
    "    * Numpy Array\n",
    "* Reduce development time because of pre-defined implementations\n",
    "* Less bugs\n",
    "* Hepls in debugging\n",
    "* Easy to change implementations"
   ]
  }
 ],
 "metadata": {
  "language_info": {
   "name": "python"
  }
 },
 "nbformat": 4,
 "nbformat_minor": 2
}

{
 "cells": [
  {
   "cell_type": "markdown",
   "metadata": {},
   "source": [
    "# following are built-in class functions:-\n",
    "\n",
    "- `getattr`(object_name, attribute_name)\n",
    "\n",
    "- `setattr`(object_name, attribute_name, new_value)\n",
    "\n",
    "- `delattr`(object_name, attribute_name)\n",
    "\n",
    "- `hasattr`(object_name, attribute_name)"
   ]
  },
  {
   "cell_type": "markdown",
   "metadata": {},
   "source": [
    "# `getattr`"
   ]
  },
  {
   "cell_type": "code",
   "execution_count": 2,
   "metadata": {},
   "outputs": [
    {
     "name": "stdout",
     "output_type": "stream",
     "text": [
      "21\n",
      "21\n"
     ]
    }
   ],
   "source": [
    "class Employee:\n",
    "    def __init__(self, salary, age):\n",
    "        self.salary = salary\n",
    "        self.age = age\n",
    "\n",
    "e1 = Employee(24000, 21)\n",
    "e2 = Employee(26000, 26)\n",
    "\n",
    "# print(e1.age)\n",
    "\n",
    "print(getattr(e1, 'age'))"
   ]
  },
  {
   "cell_type": "markdown",
   "metadata": {},
   "source": [
    "# `setattr`"
   ]
  },
  {
   "cell_type": "code",
   "execution_count": 3,
   "metadata": {},
   "outputs": [
    {
     "name": "stdout",
     "output_type": "stream",
     "text": [
      "26000\n",
      "{'salary': 26000, 'age': 26}\n",
      "504939\n",
      "{'salary': 504939, 'age': 26}\n"
     ]
    }
   ],
   "source": [
    "class Employee:\n",
    "    def __init__(self, salary, age):\n",
    "        self.salary = salary\n",
    "        self.age = age\n",
    "\n",
    "e1 = Employee(24000, 21)\n",
    "e2 = Employee(26000, 26)\n",
    "\n",
    "print(e2.salary)\n",
    "print(e2.__dict__)\n",
    "\n",
    "# print(getattr(e2, 'slary', 35000))\n",
    "\n",
    "e2.salary = 504939\n",
    "print(e2.salary)\n",
    "print(e2.__dict__)"
   ]
  },
  {
   "cell_type": "markdown",
   "metadata": {},
   "source": [
    "# `delattr`"
   ]
  },
  {
   "cell_type": "code",
   "execution_count": 9,
   "metadata": {},
   "outputs": [
    {
     "name": "stdout",
     "output_type": "stream",
     "text": [
      "26000\n",
      "{'salary': 26000, 'age': 26}\n"
     ]
    },
    {
     "ename": "AttributeError",
     "evalue": "'Employee' object has no attribute 'salary'",
     "output_type": "error",
     "traceback": [
      "\u001b[1;31m---------------------------------------------------------------------------\u001b[0m",
      "\u001b[1;31mAttributeError\u001b[0m                            Traceback (most recent call last)",
      "Cell \u001b[1;32mIn[9], line 15\u001b[0m\n\u001b[0;32m     12\u001b[0m \u001b[38;5;66;03m# print(delattr(e2, 'slary'))\u001b[39;00m\n\u001b[0;32m     14\u001b[0m \u001b[38;5;28;01mdel\u001b[39;00m e2\u001b[38;5;241m.\u001b[39msalary\n\u001b[1;32m---> 15\u001b[0m \u001b[38;5;28mprint\u001b[39m(\u001b[43me2\u001b[49m\u001b[38;5;241;43m.\u001b[39;49m\u001b[43msalary\u001b[49m)\n\u001b[0;32m     17\u001b[0m \u001b[38;5;28mprint\u001b[39m(e2\u001b[38;5;241m.\u001b[39m\u001b[38;5;18m__dict__\u001b[39m)\n",
      "\u001b[1;31mAttributeError\u001b[0m: 'Employee' object has no attribute 'salary'"
     ]
    }
   ],
   "source": [
    "class Employee:\n",
    "    def __init__(self, salary, age):\n",
    "        self.salary = salary\n",
    "        self.age = age\n",
    "\n",
    "e1 = Employee(24000, 21)\n",
    "e2 = Employee(26000, 26)\n",
    "\n",
    "print(e2.salary)\n",
    "print(e2.__dict__)\n",
    "\n",
    "print(delattr(e2, 'slary'))\n",
    "\n",
    "# del e2.salary\n",
    "# print(e2.salary)\n",
    "\n",
    "print(e2.__dict__)"
   ]
  },
  {
   "cell_type": "markdown",
   "metadata": {},
   "source": [
    "# `hasattr` check attribute have or not"
   ]
  },
  {
   "cell_type": "code",
   "execution_count": 16,
   "metadata": {},
   "outputs": [
    {
     "name": "stdout",
     "output_type": "stream",
     "text": [
      "26000\n",
      "{'salary': 26000, 'age': 26}\n",
      "False\n",
      "True\n"
     ]
    }
   ],
   "source": [
    "class Employee:\n",
    "    def __init__(self, salary, age):\n",
    "        self.salary = salary\n",
    "        self.age = age\n",
    "\n",
    "e1 = Employee(24000, 21)\n",
    "e2 = Employee(26000, 26)\n",
    "\n",
    "print(e2.salary)\n",
    "print(e2.__dict__)\n",
    "\n",
    "# has attribute to check the attribute have or not \n",
    "print(hasattr(e2, 'name'))\n",
    "print(hasattr(e2, 'age'))\n",
    "\n"
   ]
  }
 ],
 "metadata": {
  "kernelspec": {
   "display_name": "base",
   "language": "python",
   "name": "python3"
  },
  "language_info": {
   "codemirror_mode": {
    "name": "ipython",
    "version": 3
   },
   "file_extension": ".py",
   "mimetype": "text/x-python",
   "name": "python",
   "nbconvert_exporter": "python",
   "pygments_lexer": "ipython3",
   "version": "3.12.4"
  }
 },
 "nbformat": 4,
 "nbformat_minor": 2
}

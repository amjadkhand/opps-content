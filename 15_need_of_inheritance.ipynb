{
 "cells": [
  {
   "cell_type": "markdown",
   "metadata": {},
   "source": [
    "# Why we use inheritance?\n",
    "\n",
    "- For Code-resuability (write once use many times)\n",
    "- When you have relations among classes"
   ]
  },
  {
   "cell_type": "markdown",
   "metadata": {},
   "source": [
    "# class Customers:\n",
    "* Example\n",
    "- SetPersonalDetails()\n",
    "- GetPersonalDetails()\n",
    "- SetEducationDetails()\n",
    "- GetEducationDetails()\n",
    "- SetBankAccount()\n",
    "  \n",
    "\n",
    "# class Employee:\n",
    "* Example\n",
    "- SetPersonalDetails()\n",
    "- GetPersonalDetails()\n",
    "- SetEducationDetails()\n",
    "- GetEducationDetails()\n",
    "- SetBankAccount()  \n",
    "- SetSalary()  \n",
    "- SetBonus()  \n"
   ]
  },
  {
   "cell_type": "code",
   "execution_count": null,
   "metadata": {},
   "outputs": [],
   "source": []
  }
 ],
 "metadata": {
  "kernelspec": {
   "display_name": "base",
   "language": "python",
   "name": "python3"
  },
  "language_info": {
   "name": "python",
   "version": "3.12.4"
  }
 },
 "nbformat": 4,
 "nbformat_minor": 2
}

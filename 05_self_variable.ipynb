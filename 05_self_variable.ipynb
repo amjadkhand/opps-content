{
 "cells": [
  {
   "cell_type": "markdown",
   "metadata": {},
   "source": [
    "# How interpreter work\n",
    "\n",
    "jab tak class ka ko object create nahi ho ta, tab tak class ky liy memory allocation nahi ho ti aur tab tak class ka koi use nahi ho ga\n",
    "\n",
    "\n",
    "class creation ky bad python interpreter object per jump kar jay ga jis ko hum ny create kia hy, wo usko memory allocate kay ga, then python create `__init__` method for the object\n",
    "\n",
    "`Note:` **self** parameter contains memory address of class current object\n"
   ]
  },
  {
   "cell_type": "markdown",
   "metadata": {},
   "source": [
    "# `self variable`\n",
    "self is a variable which contains memory reference of current object"
   ]
  },
  {
   "cell_type": "code",
   "execution_count": null,
   "metadata": {},
   "outputs": [],
   "source": [
    "class Employee:\n",
    "    def __init__(self, salary, age):\n",
    "        self.salary = salary\n",
    "        self.age = age"
   ]
  },
  {
   "cell_type": "markdown",
   "metadata": {},
   "source": [
    "# steps\n",
    "1. memory allocation for object\n",
    "2. memory reference returned to the object\n",
    "3. memory reference automatically passed inside constructor\n",
    "4. constructor"
   ]
  }
 ],
 "metadata": {
  "kernelspec": {
   "display_name": "base",
   "language": "python",
   "name": "python3"
  },
  "language_info": {
   "name": "python",
   "version": "3.12.4"
  }
 },
 "nbformat": 4,
 "nbformat_minor": 2
}

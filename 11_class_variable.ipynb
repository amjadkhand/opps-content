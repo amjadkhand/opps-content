{
 "cells": [
  {
   "cell_type": "markdown",
   "metadata": {},
   "source": [
    "# class variables & class methods"
   ]
  },
  {
   "cell_type": "markdown",
   "metadata": {},
   "source": [
    "- Variables made for entire class `(All objects)`\n",
    "- Only one copy is created and distributed to all objects \n",
    "- Modification in class variable impact on all objects"
   ]
  },
  {
   "cell_type": "code",
   "execution_count": 1,
   "metadata": {},
   "outputs": [
    {
     "name": "stdout",
     "output_type": "stream",
     "text": [
      "ifosys\n",
      "ifosys\n"
     ]
    }
   ],
   "source": [
    "class Employee:\n",
    "    company_name = \"ifosys\"  #class variable\n",
    "\n",
    "    def __init__(self, name,marks):\n",
    "        self.name = name \n",
    "        self.marks = marks \n",
    "\n",
    "e1 = Employee(\"Amjad\", 99)        \n",
    "e2 = Employee(\"Taimoor\", 89)  \n",
    " \n",
    "print(Employee.company_name)\n",
    "# using object reference\n",
    "print(e2.company_name)\n",
    " "
   ]
  },
  {
   "cell_type": "markdown",
   "metadata": {},
   "source": [
    "# modify class reference"
   ]
  },
  {
   "cell_type": "code",
   "execution_count": 9,
   "metadata": {},
   "outputs": [
    {
     "name": "stdout",
     "output_type": "stream",
     "text": [
      "ifosys\n",
      "TCS\n",
      "TCS\n"
     ]
    }
   ],
   "source": [
    "class Employee:\n",
    "    company_name = \"ifosys\"  #class variable\n",
    "\n",
    "    def __init__(self, name,marks):\n",
    "        self.name = name \n",
    "        self.marks = marks \n",
    "\n",
    "e1 = Employee(\"Amjad\", 99)        \n",
    "e2 = Employee(\"Taimoor\", 89)  \n",
    "\n",
    "print(Employee.company_name)\n",
    "\n",
    "Employee.company_name = \"TCS\"\n",
    "\n",
    "print(Employee.company_name)\n",
    "\n",
    "print(e2.company_name)\n"
   ]
  },
  {
   "cell_type": "markdown",
   "metadata": {},
   "source": [
    "# `Object References`\n",
    "when we change the class variable by using object `reference` there is no change in calss variable, but it is create  a new variable in boject\n"
   ]
  },
  {
   "cell_type": "code",
   "execution_count": 12,
   "metadata": {},
   "outputs": [
    {
     "name": "stdout",
     "output_type": "stream",
     "text": [
      "ifosys\n",
      "ifosys\n",
      "TCS\n",
      "ifosys\n"
     ]
    }
   ],
   "source": [
    "class Employee:\n",
    "    company_name = \"ifosys\"  #class variable\n",
    "\n",
    "    def __init__(self, name,marks):\n",
    "        self.name = name \n",
    "        self.marks = marks \n",
    "\n",
    "e1 = Employee(\"Amjad\", 99)        \n",
    "e2 = Employee(\"Taimoor\", 89)  \n",
    "\n",
    "print(Employee.company_name)\n",
    "\n",
    "# using object reference\n",
    "\n",
    "print(e2.company_name)\n",
    "\n",
    "e2.company_name = \"TCS\" \n",
    "\n",
    "print(e2.company_name)  # there is no change will be here\n",
    "print(Employee.company_name)"
   ]
  },
  {
   "cell_type": "markdown",
   "metadata": {},
   "source": [
    "# `Modify using Class method`\n",
    "\n",
    "- Method which works on class variables.\n",
    "- First argument is class reference.\n",
    "- Made Using decorator `@classmethod`"
   ]
  },
  {
   "cell_type": "code",
   "execution_count": 13,
   "metadata": {},
   "outputs": [
    {
     "name": "stdout",
     "output_type": "stream",
     "text": [
      "company name is: ifosys\n",
      "company name is: ifosys\n"
     ]
    }
   ],
   "source": [
    "class Employee:\n",
    "    company_name = \"ifosys\"  #class variable\n",
    "\n",
    "    def __init__(self, name,marks):\n",
    "        self.name = name \n",
    "        self.marks = marks \n",
    "\n",
    "    @classmethod\n",
    "    def get_company_name(cls):\n",
    "        print(\"company name is:\", cls.company_name)\n",
    "\n",
    "\n",
    "e1 = Employee(\"Amjad\", 99)        \n",
    "e2 = Employee(\"Taimoor\", 89) \n",
    "\n",
    "Employee.get_company_name()\n",
    "e1.get_company_name()\n"
   ]
  },
  {
   "cell_type": "markdown",
   "metadata": {},
   "source": [
    "`Modify company name using class method`"
   ]
  },
  {
   "cell_type": "code",
   "execution_count": 18,
   "metadata": {},
   "outputs": [
    {
     "name": "stdout",
     "output_type": "stream",
     "text": [
      "company name is: ifosys\n"
     ]
    }
   ],
   "source": [
    "class Employee:\n",
    "    company_name = \"ifosys\"  #class variable\n",
    "\n",
    "    def __init__(self, name,marks):\n",
    "        self.name = name \n",
    "        self.marks = marks \n",
    "\n",
    "    @classmethod\n",
    "    def get_company_name(cls):\n",
    "        print(\"company name is:\", cls.company_name)\n",
    "        cls.company_name = \"TCS\"\n",
    "        print(\"now company name is:\",cls.company_name)\n",
    "\n",
    "\n",
    "e1 = Employee(\"Amjad\", 99)        \n",
    "e2 = Employee(\"Taimoor\", 89) \n",
    "\n",
    "Employee.get_company_name()\n",
    "\n",
    "# check company name which method modify\n",
    "\n",
    "# print(e2.company_name)\n"
   ]
  }
 ],
 "metadata": {
  "kernelspec": {
   "display_name": "base",
   "language": "python",
   "name": "python3"
  },
  "language_info": {
   "codemirror_mode": {
    "name": "ipython",
    "version": 3
   },
   "file_extension": ".py",
   "mimetype": "text/x-python",
   "name": "python",
   "nbconvert_exporter": "python",
   "pygments_lexer": "ipython3",
   "version": "3.12.4"
  }
 },
 "nbformat": 4,
 "nbformat_minor": 2
}

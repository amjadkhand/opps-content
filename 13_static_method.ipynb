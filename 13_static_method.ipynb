{
 "cells": [
  {
   "cell_type": "markdown",
   "metadata": {},
   "source": [
    "# Static Method\n",
    "\n",
    "- Methods which performs operations on `external data`\n",
    "- It can also perform operations on class data\n",
    "- No need to pass object or class refernce.\n",
    "- Created using decorator `@staticmethod`"
   ]
  },
  {
   "cell_type": "code",
   "execution_count": 6,
   "metadata": {},
   "outputs": [
    {
     "name": "stdout",
     "output_type": "stream",
     "text": [
      "3675.0\n"
     ]
    }
   ],
   "source": [
    "class Bank:\n",
    "    bank_name = \"BIO\"\n",
    "    rate_of_interest = 12.25\n",
    "\n",
    "    # @staticmethod\n",
    "    def simple_interest(principal,n):\n",
    "        si =(principal*n*Bank.rate_of_interest)/100 \n",
    "        print(si)\n",
    "\n",
    "\n",
    "# Bank.simple_interest(10000,3)         \n",
    "\n",
    "prin = float(input(\"Enter principle amount:\"))\n",
    "n = int(input(\"Enter number of years:\"))\n",
    "Bank.simple_interest(prin,n)"
   ]
  }
 ],
 "metadata": {
  "kernelspec": {
   "display_name": "base",
   "language": "python",
   "name": "python3"
  },
  "language_info": {
   "codemirror_mode": {
    "name": "ipython",
    "version": 3
   },
   "file_extension": ".py",
   "mimetype": "text/x-python",
   "name": "python",
   "nbconvert_exporter": "python",
   "pygments_lexer": "ipython3",
   "version": "3.12.4"
  }
 },
 "nbformat": 4,
 "nbformat_minor": 2
}

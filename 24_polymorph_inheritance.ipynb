{
 "cells": [
  {
   "cell_type": "markdown",
   "metadata": {},
   "source": [
    "# Polymorphism with Inheritance"
   ]
  },
  {
   "cell_type": "code",
   "execution_count": 1,
   "metadata": {},
   "outputs": [
    {
     "name": "stdout",
     "output_type": "stream",
     "text": [
      "name is:  Truck\n",
      "color is:  red\n",
      "price is:  394020202\n"
     ]
    }
   ],
   "source": [
    "class Veh:\n",
    "    def __init__(self, name, color,price):\n",
    "        self.name = name\n",
    "        self.color = color\n",
    "        self.price = price\n",
    "\n",
    "# instance method\n",
    "\n",
    "    def get_details(self):\n",
    "        print(\"name is: \", self.name)    \n",
    "        print(\"color is: \", self.color)    \n",
    "        print(\"price is: \", self.price)   \n",
    "\n",
    "v1 = Veh(\"Truck\",\"red\", 394020202)\n",
    "\n",
    "v1.get_details()"
   ]
  },
  {
   "cell_type": "markdown",
   "metadata": {},
   "source": [
    "`ìnheritance`"
   ]
  },
  {
   "cell_type": "code",
   "execution_count": 5,
   "metadata": {},
   "outputs": [
    {
     "name": "stdout",
     "output_type": "stream",
     "text": [
      "name is:  Truck\n",
      "color is:  red\n",
      "price is:  394020202\n",
      "Maximum speed limit is 100\n",
      "\n",
      "name is:  Car\n",
      "color is:  White\n",
      "price is:  5020200\n",
      "Maximum speed limit is 140\n"
     ]
    }
   ],
   "source": [
    "class Veh:\n",
    "    def __init__(self, name, color,price):\n",
    "        self.name = name\n",
    "        self.color = color\n",
    "        self.price = price\n",
    "\n",
    "    def get_details(self):\n",
    "        print(\"name is: \", self.name)    \n",
    "        print(\"color is: \", self.color)    \n",
    "        print(\"price is: \", self.price)  \n",
    "\n",
    "    def max_speed(self):\n",
    "        print(\"Maximum speed limit is 100\")   \n",
    "\n",
    "    def gear(self):\n",
    "        print(\"gear change is 6\")   \n",
    "\n",
    "class Car(Veh):  \n",
    "\n",
    "    def max_speed(self):\n",
    "        print(\"Maximum speed limit is 140\")   \n",
    "\n",
    "    def gear(self):\n",
    "        print(\"gear change is 7\")      \n",
    "\n",
    "v1 = Veh(\"Truck\",\"red\", 394020202)\n",
    "v1.get_details()\n",
    "v1.max_speed()\n",
    "\n",
    "print()\n",
    "\n",
    "c1 = Car(\"Car\", \"White\",5020200)\n",
    "c1.get_details()\n",
    "c1.max_speed()"
   ]
  }
 ],
 "metadata": {
  "kernelspec": {
   "display_name": "base",
   "language": "python",
   "name": "python3"
  },
  "language_info": {
   "codemirror_mode": {
    "name": "ipython",
    "version": 3
   },
   "file_extension": ".py",
   "mimetype": "text/x-python",
   "name": "python",
   "nbconvert_exporter": "python",
   "pygments_lexer": "ipython3",
   "version": "3.12.4"
  }
 },
 "nbformat": 4,
 "nbformat_minor": 2
}

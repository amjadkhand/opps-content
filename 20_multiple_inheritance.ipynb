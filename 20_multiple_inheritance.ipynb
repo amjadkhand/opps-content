{
 "cells": [
  {
   "cell_type": "markdown",
   "metadata": {},
   "source": [
    "# Multiple Inheritance:-\n",
    "\n",
    "Class is derived from multiple base classes."
   ]
  },
  {
   "cell_type": "code",
   "execution_count": 24,
   "metadata": {},
   "outputs": [
    {
     "name": "stdout",
     "output_type": "stream",
     "text": [
      "{'office': 'Isalamabad'}\n",
      "{'office': 'Lahore'}\n"
     ]
    }
   ],
   "source": [
    "class Country(object):\n",
    "    def __init__(self):\n",
    "        self.daftar = \"bahawalpur\"\n",
    "\n",
    "class State():\n",
    "    def __init__(self):\n",
    "        self.office = \"Lahore\"\n",
    "        \n",
    "\n",
    "class District(State, Country):\n",
    "    def __init__(self):\n",
    "        self.office = \"Isalamabad\"\n",
    "    \n",
    "\n",
    "d = District()\n",
    "print(d.__dict__)\n",
    "\n",
    "s1 = State()\n",
    "print(s1.__dict__)\n",
    "\n"
   ]
  },
  {
   "cell_type": "markdown",
   "metadata": {},
   "source": [
    "let we want bahawalpur office"
   ]
  },
  {
   "cell_type": "code",
   "execution_count": 30,
   "metadata": {},
   "outputs": [
    {
     "name": "stdout",
     "output_type": "stream",
     "text": [
      "bahawalpur\n"
     ]
    }
   ],
   "source": [
    "class Country(object):\n",
    "    def __init__(self):\n",
    "        self.daftar = \"bahawalpur\"\n",
    "\n",
    "class State():\n",
    "\n",
    "    def __init__(self):\n",
    "        self.office = \"Lahore\"\n",
    "        super().__init__()\n",
    "\n",
    "class District(State, Country):\n",
    "    def __init__(self):\n",
    "        self.office = \"Isalamabad\"\n",
    "        super().__init__()\n",
    "\n",
    "d = District()\n",
    "# print(d.__dict__)\n",
    "print(d.daftar)"
   ]
  },
  {
   "cell_type": "code",
   "execution_count": 32,
   "metadata": {},
   "outputs": [
    {
     "name": "stdout",
     "output_type": "stream",
     "text": [
      "District class constructor\n",
      "{'office': 'Islamabad'}\n"
     ]
    },
    {
     "ename": "AttributeError",
     "evalue": "'District' object has no attribute 'daftar'",
     "output_type": "error",
     "traceback": [
      "\u001b[1;31m---------------------------------------------------------------------------\u001b[0m",
      "\u001b[1;31mAttributeError\u001b[0m                            Traceback (most recent call last)",
      "Cell \u001b[1;32mIn[32], line 18\u001b[0m\n\u001b[0;32m     16\u001b[0m d \u001b[38;5;241m=\u001b[39m District()\n\u001b[0;32m     17\u001b[0m \u001b[38;5;28mprint\u001b[39m(d\u001b[38;5;241m.\u001b[39m\u001b[38;5;18m__dict__\u001b[39m)\n\u001b[1;32m---> 18\u001b[0m \u001b[38;5;28mprint\u001b[39m(\u001b[43md\u001b[49m\u001b[38;5;241;43m.\u001b[39;49m\u001b[43mdaftar\u001b[49m)\n",
      "\u001b[1;31mAttributeError\u001b[0m: 'District' object has no attribute 'daftar'"
     ]
    }
   ],
   "source": [
    "class Country(object):\n",
    "    def __init__(self):\n",
    "        print(\"Country class constructor\")\n",
    "        self.office = \"Bahawalpur\"\n",
    "\n",
    "class State():\n",
    "    def __init__(self):\n",
    "        self.daftar = \"Lahore\"\n",
    "        print(\"State class constructor\")\n",
    "\n",
    "class District(State, Country):\n",
    "    def __init__(self):\n",
    "        print(\"District class constructor\")\n",
    "        self.office = 'Islamabad'\n",
    "\n",
    "d = District()\n",
    "print(d.__dict__)\n",
    "print(d.daftar)"
   ]
  },
  {
   "cell_type": "markdown",
   "metadata": {},
   "source": [
    "use super functions in constructor"
   ]
  },
  {
   "cell_type": "code",
   "execution_count": 33,
   "metadata": {},
   "outputs": [
    {
     "name": "stdout",
     "output_type": "stream",
     "text": [
      "State class constructor\n",
      "District class constructor\n",
      "{'daftar': 'Lahore', 'office': 'Islamabad'}\n",
      "Lahore\n"
     ]
    }
   ],
   "source": [
    "class Country(object):\n",
    "    def __init__(self):\n",
    "        print(\"Country class constructor\")\n",
    "        self.office = \"Bahawalpur\"\n",
    "\n",
    "class State():\n",
    "    def __init__(self):\n",
    "        self.daftar = \"Lahore\"\n",
    "        print(\"State class constructor\")\n",
    "\n",
    "class District(State, Country):\n",
    "    def __init__(self):\n",
    "        super().__init__()\n",
    "        print(\"District class constructor\")\n",
    "        self.office = 'Islamabad'\n",
    "\n",
    "d = District()\n",
    "print(d.__dict__)\n",
    "print(d.daftar)"
   ]
  },
  {
   "cell_type": "markdown",
   "metadata": {},
   "source": [
    "we use super function in district class, first he check in `_**left calss**_` now our left class is state class, if `state class constructro` are not present in then he check `country class constructro`"
   ]
  },
  {
   "cell_type": "code",
   "execution_count": 35,
   "metadata": {},
   "outputs": [
    {
     "name": "stdout",
     "output_type": "stream",
     "text": [
      "Country class constructor\n",
      "District class constructor\n",
      "{'office': 'Islamabad'}\n"
     ]
    }
   ],
   "source": [
    "class Country(object):\n",
    "    def __init__(self):\n",
    "        print(\"Country class constructor\")\n",
    "        self.office = \"Bahawalpur\"\n",
    "\n",
    "class State():\n",
    "    pass\n",
    "    # def __init__(self):\n",
    "    #     self.office = \"Lahore\"\n",
    "    #     print(\"State class constructor\")\n",
    "\n",
    "class District(State, Country):\n",
    "    def __init__(self):\n",
    "        super().__init__()\n",
    "        print(\"District class constructor\")\n",
    "        self.office = 'Islamabad'\n",
    "\n",
    "d = District()\n",
    "print(d.__dict__)"
   ]
  },
  {
   "cell_type": "code",
   "execution_count": 13,
   "metadata": {},
   "outputs": [
    {
     "name": "stdout",
     "output_type": "stream",
     "text": [
      "Country class constructor\n",
      "State class constructor\n",
      "District class constructor\n",
      "{'office': 'Islamabad'}\n"
     ]
    }
   ],
   "source": [
    "class Country(object):\n",
    "    def __init__(self):\n",
    "        print(\"Country class constructor\")\n",
    "        self.office = \"Bahawalpur\"\n",
    "\n",
    "class State():\n",
    "    def __init__(self):\n",
    "        super().__init__()\n",
    "        self.office = \"Lahore\"\n",
    "        print(\"State class constructor\")\n",
    "\n",
    "class District(State, Country):\n",
    "    def __init__(self):\n",
    "        super().__init__()\n",
    "        print(\"District class constructor\")\n",
    "        self.office = 'Islamabad'\n",
    "\n",
    "d = District()\n",
    "print(d.__dict__)"
   ]
  }
 ],
 "metadata": {
  "kernelspec": {
   "display_name": "base",
   "language": "python",
   "name": "python3"
  },
  "language_info": {
   "codemirror_mode": {
    "name": "ipython",
    "version": 3
   },
   "file_extension": ".py",
   "mimetype": "text/x-python",
   "name": "python",
   "nbconvert_exporter": "python",
   "pygments_lexer": "ipython3",
   "version": "3.12.4"
  }
 },
 "nbformat": 4,
 "nbformat_minor": 2
}

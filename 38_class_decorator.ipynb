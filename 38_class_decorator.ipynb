{
 "cells": [
  {
   "cell_type": "markdown",
   "metadata": {},
   "source": [
    "# Two types of decorators\n",
    "\n",
    "- Function Decorators\n",
    "\n",
    "- Class Decorators"
   ]
  },
  {
   "cell_type": "code",
   "execution_count": 11,
   "metadata": {},
   "outputs": [
    {
     "data": {
      "text/plain": [
       "4"
      ]
     },
     "execution_count": 11,
     "metadata": {},
     "output_type": "execute_result"
    }
   ],
   "source": [
    "def add(a,b): # 3,1 = 4\n",
    "    return a+b # we want 16 power of 4\n",
    "add(3,1)"
   ]
  },
  {
   "cell_type": "code",
   "execution_count": 22,
   "metadata": {},
   "outputs": [
    {
     "ename": "TypeError",
     "evalue": "'Decorator' object is not callable",
     "output_type": "error",
     "traceback": [
      "\u001b[1;31m---------------------------------------------------------------------------\u001b[0m",
      "\u001b[1;31mTypeError\u001b[0m                                 Traceback (most recent call last)",
      "Cell \u001b[1;32mIn[22], line 10\u001b[0m\n\u001b[0;32m      7\u001b[0m         \u001b[38;5;28;01mreturn\u001b[39;00m a\u001b[38;5;241m+\u001b[39mb \n\u001b[0;32m      9\u001b[0m add \u001b[38;5;241m=\u001b[39m Decorator()\n\u001b[1;32m---> 10\u001b[0m \u001b[43madd\u001b[49m\u001b[43m(\u001b[49m\u001b[43m)\u001b[49m    \n",
      "\u001b[1;31mTypeError\u001b[0m: 'Decorator' object is not callable"
     ]
    }
   ],
   "source": [
    "class Decorator(object):\n",
    "\n",
    "    def __init__(self):\n",
    "        pass\n",
    "\n",
    "    def add(a,b):\n",
    "        return a+b \n",
    "    \n",
    "add = Decorator()\n",
    "add()    "
   ]
  },
  {
   "cell_type": "markdown",
   "metadata": {},
   "source": [
    "create magic method and call the add"
   ]
  },
  {
   "cell_type": "code",
   "execution_count": 23,
   "metadata": {},
   "outputs": [
    {
     "name": "stdout",
     "output_type": "stream",
     "text": [
      "16\n"
     ]
    }
   ],
   "source": [
    "class Decorator(object):\n",
    "\n",
    "    def __init__(self,func):\n",
    "        self.function = func\n",
    "\n",
    "    def __call__(self,a,b):\n",
    "        result = self.function(a,b)\n",
    "        return result**2\n",
    "\n",
    "\n",
    "def add(a,b):\n",
    "        return a+b \n",
    "\n",
    "add = Decorator(add)\n",
    "print(add(1,3))     "
   ]
  },
  {
   "cell_type": "markdown",
   "metadata": {},
   "source": [
    "`use decorator`"
   ]
  },
  {
   "cell_type": "code",
   "execution_count": 25,
   "metadata": {},
   "outputs": [
    {
     "name": "stdout",
     "output_type": "stream",
     "text": [
      "16\n"
     ]
    }
   ],
   "source": [
    "class Decorator(object):\n",
    "\n",
    "    def __init__(self,func):\n",
    "        self.function = func\n",
    "\n",
    "    def __call__(self,a,b):\n",
    "        result = self.function(a,b)\n",
    "        return result**2\n",
    "\n",
    "@Decorator\n",
    "def add(a,b):\n",
    "        return a+b \n",
    "\n",
    "print(add(1,3))"
   ]
  }
 ],
 "metadata": {
  "kernelspec": {
   "display_name": "base",
   "language": "python",
   "name": "python3"
  },
  "language_info": {
   "codemirror_mode": {
    "name": "ipython",
    "version": 3
   },
   "file_extension": ".py",
   "mimetype": "text/x-python",
   "name": "python",
   "nbconvert_exporter": "python",
   "pygments_lexer": "ipython3",
   "version": "3.12.4"
  }
 },
 "nbformat": 4,
 "nbformat_minor": 2
}

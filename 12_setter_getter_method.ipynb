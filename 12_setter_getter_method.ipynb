{
 "cells": [
  {
   "cell_type": "markdown",
   "metadata": {},
   "source": [
    "# Instance Methods\n",
    "\n",
    "- setter method:- set values of instance variables\n",
    "\n",
    "- getter method:- get values of instance variables"
   ]
  },
  {
   "cell_type": "code",
   "execution_count": 4,
   "metadata": {},
   "outputs": [
    {
     "name": "stdout",
     "output_type": "stream",
     "text": [
      "e1 object is: {'name': 'khand'}\n",
      "e2 object is: {'name': 'taimoor'}\n",
      "The name is: khand\n",
      "The name is: taimoor\n"
     ]
    }
   ],
   "source": [
    "class Employee:\n",
    "    \n",
    "    def setName(self, name):  #setter method\n",
    "        self.name = name\n",
    "\n",
    "    def getName(self): #getter method\n",
    "        print(\"The name is:\", self.name)    \n",
    "\n",
    "\n",
    "e1 = Employee()\n",
    "e2 = Employee()\n",
    "\n",
    "e1.setName(input(\"enter the name\"))\n",
    "\n",
    "e2.setName(input(\"enter the name\"))\n",
    "\n",
    "print(\"e1 object is:\", e1.__dict__)\n",
    "print(\"e2 object is:\", e2.__dict__)\n",
    "\n",
    "e1.getName()\n",
    "e2.getName()"
   ]
  }
 ],
 "metadata": {
  "kernelspec": {
   "display_name": "base",
   "language": "python",
   "name": "python3"
  },
  "language_info": {
   "codemirror_mode": {
    "name": "ipython",
    "version": 3
   },
   "file_extension": ".py",
   "mimetype": "text/x-python",
   "name": "python",
   "nbconvert_exporter": "python",
   "pygments_lexer": "ipython3",
   "version": "3.12.4"
  }
 },
 "nbformat": 4,
 "nbformat_minor": 2
}

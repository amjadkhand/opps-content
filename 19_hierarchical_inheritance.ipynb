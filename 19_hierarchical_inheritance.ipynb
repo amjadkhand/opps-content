{
 "cells": [
  {
   "cell_type": "markdown",
   "metadata": {},
   "source": [
    "# Hierarchical Inheritance\n",
    "\n",
    "- One Parent and multiple child classes"
   ]
  },
  {
   "cell_type": "code",
   "execution_count": 7,
   "metadata": {},
   "outputs": [
    {
     "name": "stdout",
     "output_type": "stream",
     "text": [
      "____Employee details____ {'name': 'Noman', 'age': 30}\n",
      "____Employee details____ {'name': 35, 'age': 50000, 'salary': 'Zahid'}\n",
      "____Student details____ {'name': 'taimoor', 'age': 30, 'marks': 90}\n",
      "____________________________\n",
      "This is Student display method\n",
      "This is person display method\n"
     ]
    },
    {
     "ename": "AttributeError",
     "evalue": "'Student' object has no attribute 'display2'",
     "output_type": "error",
     "traceback": [
      "\u001b[1;31m---------------------------------------------------------------------------\u001b[0m",
      "\u001b[1;31mAttributeError\u001b[0m                            Traceback (most recent call last)",
      "Cell \u001b[1;32mIn[7], line 42\u001b[0m\n\u001b[0;32m     39\u001b[0m s1\u001b[38;5;241m.\u001b[39mdisplay3()\n\u001b[0;32m     40\u001b[0m s1\u001b[38;5;241m.\u001b[39mdisplay1()\n\u001b[1;32m---> 42\u001b[0m \u001b[43ms1\u001b[49m\u001b[38;5;241;43m.\u001b[39;49m\u001b[43mdisplay2\u001b[49m()  \u001b[38;5;66;03m# attribute error\u001b[39;00m\n",
      "\u001b[1;31mAttributeError\u001b[0m: 'Student' object has no attribute 'display2'"
     ]
    }
   ],
   "source": [
    "class Person(object):\n",
    "    def __init__(self, name, age):\n",
    "        self.name = name\n",
    "        self.age = age\n",
    "\n",
    "    def display1(self):\n",
    "        print(\"This is person display method\")\n",
    "\n",
    "\n",
    "class Employee (Person):\n",
    "    def __init__(self,salary, name, age):\n",
    "        super().__init__(name,age)\n",
    "        self.salary = salary\n",
    "\n",
    "    def display2(self):\n",
    "        print(\"This is Employee display method\")    \n",
    "\n",
    "\n",
    "class Student(Person):\n",
    "    def __init__(self, marks):\n",
    "        super().__init__(name='taimoor', age=30)\n",
    "        self.marks = marks\n",
    "\n",
    "    def display3(self):\n",
    "        print(\"This is Student display method\")    \n",
    "              \n",
    "\n",
    " \n",
    "p1 = Person('Noman',30)\n",
    "print(\"____Employee details____\",p1.__dict__)\n",
    "\n",
    "e1 = Employee('Zahid', 35, 50000)\n",
    "print(\"____Employee details____\",e1.__dict__)\n",
    "\n",
    "s1 = Student(90)  \n",
    "print(\"____Student details____\",s1.__dict__)\n",
    "print('____________________________')\n",
    "\n",
    "s1.display3()\n",
    "s1.display1()\n",
    "\n",
    "# s1.display2()  # attribute error\n",
    "\n",
    "\n"
   ]
  }
 ],
 "metadata": {
  "kernelspec": {
   "display_name": "base",
   "language": "python",
   "name": "python3"
  },
  "language_info": {
   "codemirror_mode": {
    "name": "ipython",
    "version": 3
   },
   "file_extension": ".py",
   "mimetype": "text/x-python",
   "name": "python",
   "nbconvert_exporter": "python",
   "pygments_lexer": "ipython3",
   "version": "3.12.4"
  }
 },
 "nbformat": 4,
 "nbformat_minor": 2
}

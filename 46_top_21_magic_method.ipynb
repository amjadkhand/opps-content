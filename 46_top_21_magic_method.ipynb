{
 "cells": [
  {
   "cell_type": "markdown",
   "metadata": {},
   "source": [
    "# What are magic methods?:-\n",
    "\n",
    "Magic methods are special methods in Python that have double underscores `(dunder)` on both sides of the method name.\n",
    "\n",
    "Naming convention:- `__methodname__`\n",
    "\n",
    "We don't need to call magic methods explicitely. Python automatically calls magic methods as a response to certain operations, such as instantiation"
   ]
  },
  {
   "cell_type": "markdown",
   "metadata": {},
   "source": [
    "* `__add__` magic method\n",
    "* no need to call it explicitely\n",
    "* `__add__`"
   ]
  },
  {
   "cell_type": "code",
   "execution_count": 1,
   "metadata": {},
   "outputs": [
    {
     "name": "stdout",
     "output_type": "stream",
     "text": [
      "30\n",
      "40\n"
     ]
    }
   ],
   "source": [
    "print(10 + 20)\n",
    "\n",
    "print((20).__add__(20))"
   ]
  },
  {
   "cell_type": "markdown",
   "metadata": {},
   "source": [
    "second example of `__add__`"
   ]
  },
  {
   "cell_type": "code",
   "execution_count": 3,
   "metadata": {},
   "outputs": [
    {
     "name": "stdout",
     "output_type": "stream",
     "text": [
      "init is running\n"
     ]
    }
   ],
   "source": [
    "class Bank:\n",
    "    def __init__(self,balance,card,acc_no,name):\n",
    "        print('init is running')\n",
    "        self.bank_balance = balance\n",
    "        self.card_number = card\n",
    "        self.account_number = acc_no\n",
    "        self.customer_name = name\n",
    "\n",
    "b1 = Bank(100, '86745 33849 83922','2ii4829','shantanu kejkar')  \n",
    "\n",
    "#instantiation:- creating an object  ---> __init__()"
   ]
  },
  {
   "cell_type": "markdown",
   "metadata": {},
   "source": [
    "## `According to python's documentation`\n",
    "A method that is called implicitly by Python to execute a certain operation on a type, such as addition, Such methods have names starting and ending with `double underscores.`"
   ]
  },
  {
   "cell_type": "markdown",
   "metadata": {},
   "source": [
    "# `1. __init__(self)`\n",
    "This method is called automatically to initialize instance attributes when an object is created"
   ]
  },
  {
   "cell_type": "code",
   "execution_count": 12,
   "metadata": {},
   "outputs": [
    {
     "name": "stdout",
     "output_type": "stream",
     "text": [
      "init is running\n"
     ]
    },
    {
     "data": {
      "text/plain": [
       "1100"
      ]
     },
     "execution_count": 12,
     "metadata": {},
     "output_type": "execute_result"
    }
   ],
   "source": [
    "class Bank:\n",
    "    def __init__(self,balance,card,acc_no,name):\n",
    "        print('init is running')\n",
    "        self.bank_balance = balance\n",
    "        self.card_number = card\n",
    "        self.account_number = acc_no\n",
    "        self.customer_name = name\n",
    "\n",
    "b1 = Bank(100, '86745 33849 83922','2ii4829','shantanu kejkar')  \n",
    "b1.bank_balance\n",
    "# deposit 1000\n",
    "b1.bank_balance = b1.bank_balance+ 1000\n",
    "b1.bank_balance"
   ]
  },
  {
   "cell_type": "markdown",
   "metadata": {},
   "source": [
    "# `2. __dict__`:-\n",
    "It gives a dictionary containing instance variables and their values if you call it with object."
   ]
  },
  {
   "cell_type": "code",
   "execution_count": 13,
   "metadata": {},
   "outputs": [
    {
     "name": "stdout",
     "output_type": "stream",
     "text": [
      "init is running\n"
     ]
    },
    {
     "data": {
      "text/plain": [
       "{'bank_balance': 100,\n",
       " 'card_number': '86745 33849 83922',\n",
       " 'account_number': '2ii4829',\n",
       " 'customer_name': 'shantanu kejkar'}"
      ]
     },
     "execution_count": 13,
     "metadata": {},
     "output_type": "execute_result"
    }
   ],
   "source": [
    "class Bank:\n",
    "    def __init__(self,balance,card,acc_no,name):\n",
    "        print('init is running')\n",
    "        self.bank_balance = balance\n",
    "        self.card_number = card\n",
    "        self.account_number = acc_no\n",
    "        self.customer_name = name\n",
    "\n",
    "b1 = Bank(100, '86745 33849 83922','2ii4829','shantanu kejkar')  \n",
    "b1.__dict__"
   ]
  },
  {
   "cell_type": "markdown",
   "metadata": {},
   "source": [
    "### using `__dict__` with class name\n",
    "* it returns a namespace of object/class"
   ]
  },
  {
   "cell_type": "code",
   "execution_count": 15,
   "metadata": {},
   "outputs": [
    {
     "name": "stdout",
     "output_type": "stream",
     "text": [
      "init is running\n"
     ]
    },
    {
     "data": {
      "text/plain": [
       "mappingproxy({'__module__': '__main__',\n",
       "              'bank_name': 'BOP',\n",
       "              '__init__': <function __main__.Bank.__init__(self, balance, card, acc_no, name)>,\n",
       "              'display': <function __main__.Bank.display(self)>,\n",
       "              '__dict__': <attribute '__dict__' of 'Bank' objects>,\n",
       "              '__weakref__': <attribute '__weakref__' of 'Bank' objects>,\n",
       "              '__doc__': None})"
      ]
     },
     "execution_count": 15,
     "metadata": {},
     "output_type": "execute_result"
    }
   ],
   "source": [
    "class Bank:\n",
    "    bank_name = \"BOP\"\n",
    "    def __init__(self,balance,card,acc_no,name):\n",
    "        print('init is running')\n",
    "        self.bank_balance = balance\n",
    "        self.card_number = card\n",
    "        self.account_number = acc_no\n",
    "        self.customer_name = name\n",
    "    def display(self):\n",
    "        pass    \n",
    "\n",
    "b1 = Bank(100, '86745 33849 83922','2ii4829','shantanu kejkar')  \n",
    "Bank.__dict__"
   ]
  },
  {
   "cell_type": "markdown",
   "metadata": {},
   "source": [
    "# `3. __new__()`:-\n",
    "Python implicitly calls the .__new__() method as the first step in the instantiation process."
   ]
  },
  {
   "cell_type": "code",
   "execution_count": 16,
   "metadata": {},
   "outputs": [
    {
     "name": "stdout",
     "output_type": "stream",
     "text": [
      "init is running\n"
     ]
    }
   ],
   "source": [
    "class Bank:\n",
    "    bank_name = \"BOP\"\n",
    "    def __init__(self,balance,card,acc_no,name):\n",
    "        print('init is running')\n",
    "        self.bank_balance = balance\n",
    "        self.card_number = card\n",
    "        self.account_number = acc_no\n",
    "        self.customer_name = name\n",
    "    def display(self):\n",
    "        pass    \n",
    "\n",
    "b1 = Bank(100, '86745 33849 83922','2ii4829','shantanu kejkar')  \n",
    "\n",
    "# __new__() ---> __init__()"
   ]
  },
  {
   "cell_type": "markdown",
   "metadata": {},
   "source": [
    "# `4. __str__()`:-\n",
    "In Python the `__str__()` method is a special method used to define a string representation of an object"
   ]
  },
  {
   "cell_type": "code",
   "execution_count": 17,
   "metadata": {},
   "outputs": [
    {
     "name": "stdout",
     "output_type": "stream",
     "text": [
      "init is running\n",
      "<__main__.Bank object at 0x000001D5AD9A6450>\n"
     ]
    }
   ],
   "source": [
    "class Bank:\n",
    "    bank_name = \"BOP\"\n",
    "    def __init__(self,balance,card,acc_no,name):\n",
    "        print('init is running')\n",
    "        self.bank_balance = balance\n",
    "        self.card_number = card\n",
    "        self.account_number = acc_no\n",
    "        self.customer_name = name\n",
    "    def display(self):\n",
    "        pass    \n",
    "\n",
    "b1 = Bank(100, '86745 33849 83922','2ii4829','shantanu kejkar')  \n",
    "print(b1)"
   ]
  },
  {
   "cell_type": "markdown",
   "metadata": {},
   "source": [
    "`create str method to overrid main`"
   ]
  },
  {
   "cell_type": "code",
   "execution_count": 21,
   "metadata": {},
   "outputs": [
    {
     "name": "stdout",
     "output_type": "stream",
     "text": [
      "init is running\n",
      "This is the object of the bank class\n"
     ]
    }
   ],
   "source": [
    "class Bank:\n",
    "    bank_name = \"BOP\"\n",
    "    def __init__(self,balance,card,acc_no,name):\n",
    "        print('init is running')\n",
    "        self.bank_balance = balance\n",
    "        self.card_number = card\n",
    "        self.account_number = acc_no\n",
    "        self.customer_name = name\n",
    "\n",
    "    def __str__(self):\n",
    "        return (\"This is the object of the bank class\")\n",
    "\n",
    "b1 = Bank(100, '86745 33849 83922','2ii4829','shantanu kejkar')  \n",
    "print(b1)"
   ]
  },
  {
   "cell_type": "markdown",
   "metadata": {},
   "source": [
    "`print information of the object`"
   ]
  },
  {
   "cell_type": "code",
   "execution_count": 22,
   "metadata": {},
   "outputs": [
    {
     "name": "stdout",
     "output_type": "stream",
     "text": [
      "init is running\n",
      "shantanu kejkar\n"
     ]
    }
   ],
   "source": [
    "class Bank:\n",
    "    bank_name = \"BOP\"\n",
    "    def __init__(self,balance,card,acc_no,name):\n",
    "        print('init is running')\n",
    "        self.bank_balance = balance\n",
    "        self.card_number = card\n",
    "        self.account_number = acc_no\n",
    "        self.customer_name = name\n",
    "\n",
    "    def __str__(self):\n",
    "        return (self.customer_name)\n",
    "    \n",
    "b1 = Bank(100, '86745 33849 83922','2ii4829','shantanu kejkar')  \n",
    "print(b1)"
   ]
  },
  {
   "cell_type": "markdown",
   "metadata": {},
   "source": [
    "# `5. __repr__()`:-\n",
    "In Python the `__repr__()` method is a special method used to define a string representation of an object\n",
    "\n",
    "* there is slice difference in between but the purpose is same\n",
    "* str used in production\n",
    "* repr is used in debugging\n"
   ]
  },
  {
   "cell_type": "code",
   "execution_count": null,
   "metadata": {},
   "outputs": [],
   "source": [
    "class Bank:\n",
    "    bank_name = \"BOP\"\n",
    "    def __init__(self,balance,card,acc_no,name):\n",
    "        print('init is running')\n",
    "        self.bank_balance = balance\n",
    "        self.card_number = card\n",
    "        self.account_number = acc_no\n",
    "        self.customer_name = name\n",
    "\n",
    "    def __str__(self):\n",
    "        return (self.customer_name)\n",
    "    \n",
    "b1 = Bank(100, '86745 33849 83922','2ii4829','shantanu kejkar')  \n",
    "print(b1)"
   ]
  },
  {
   "cell_type": "markdown",
   "metadata": {},
   "source": [
    "`Check which method has more priority`\n",
    "* str has more priority"
   ]
  },
  {
   "cell_type": "code",
   "execution_count": 24,
   "metadata": {},
   "outputs": [
    {
     "name": "stdout",
     "output_type": "stream",
     "text": [
      "init is running\n",
      "This is from str\n"
     ]
    }
   ],
   "source": [
    "class Bank:\n",
    "    bank_name = \"BOP\"\n",
    "    def __init__(self,balance,card,acc_no,name):\n",
    "        print('init is running')\n",
    "        self.bank_balance = balance\n",
    "        self.card_number = card\n",
    "        self.account_number = acc_no\n",
    "        self.customer_name = name\n",
    "\n",
    "    def __str__(self):\n",
    "        return \"This is from str\"\n",
    "    \n",
    "    def __repr__(self):\n",
    "        return \"This is from repr\"\n",
    "    \n",
    "b1 = Bank(100, '86745 33849 83922','2ii4829','shantanu kejkar')  \n",
    "print(b1)"
   ]
  },
  {
   "cell_type": "markdown",
   "metadata": {},
   "source": [
    "# `6. __len__()`:-\n",
    "In Python, the `__len__()` method is special method used to define the length of an object"
   ]
  },
  {
   "cell_type": "code",
   "execution_count": 31,
   "metadata": {},
   "outputs": [
    {
     "name": "stdout",
     "output_type": "stream",
     "text": [
      "init is running\n",
      "4\n"
     ]
    }
   ],
   "source": [
    "class Bank:\n",
    "    bank_name = \"BOP\"\n",
    "    def __init__(self,balance,card,acc_no,name):\n",
    "        print('init is running')\n",
    "        self.bank_balance = balance\n",
    "        self.card_number = card\n",
    "        self.account_number = acc_no\n",
    "        self.customer_name = name\n",
    "    \n",
    "b1 = Bank(100, '86745 33849 83922','2ii4829','shantanu kejkar')  \n",
    "\n",
    "\n",
    "print(len([10,20,30,40]))  # datatype :- built-in class list --> __len__()\n"
   ]
  },
  {
   "cell_type": "code",
   "execution_count": 34,
   "metadata": {},
   "outputs": [
    {
     "name": "stdout",
     "output_type": "stream",
     "text": [
      "init is running\n",
      "10\n"
     ]
    }
   ],
   "source": [
    "class Bank:\n",
    "    bank_name = \"BOP\"\n",
    "    def __init__(self,balance,card,acc_no,name):\n",
    "        print('init is running')\n",
    "        self.bank_balance = balance\n",
    "        self.card_number = card\n",
    "        self.account_number = acc_no\n",
    "        self.customer_name = name\n",
    "\n",
    "    def __len__(self):\n",
    "          return 10\n",
    "    \n",
    "b1 = Bank(100, '86745 33849 83922','2ii4829','shantanu kejkar')  \n",
    "print(len(b1))"
   ]
  },
  {
   "cell_type": "markdown",
   "metadata": {},
   "source": [
    "check length using `__dict__()`"
   ]
  },
  {
   "cell_type": "code",
   "execution_count": 36,
   "metadata": {},
   "outputs": [
    {
     "name": "stdout",
     "output_type": "stream",
     "text": [
      "init is running\n",
      "4\n",
      "{'bank_balance': 100, 'card_number': '86745 33849 83922', 'account_number': '2ii4829', 'customer_name': 'shantanu kejkar'}\n",
      "3\n",
      "{'bank_balance': 100, 'card_number': '86745 33849 83922', 'customer_name': 'shantanu kejkar'}\n"
     ]
    }
   ],
   "source": [
    "class Bank:\n",
    "    bank_name = \"BOP\"\n",
    "    def __init__(self,balance,card,acc_no,name):\n",
    "        print('init is running')\n",
    "        self.bank_balance = balance\n",
    "        self.card_number = card\n",
    "        self.account_number = acc_no\n",
    "        self.customer_name = name\n",
    "\n",
    "    def __len__(self):\n",
    "          return len(self.__dict__)\n",
    "    \n",
    "b1 = Bank(100, '86745 33849 83922','2ii4829','shantanu kejkar')  \n",
    "print(len(b1))\n",
    "print(b1.__dict__)\n",
    "\n",
    "# del account number\n",
    "del b1.account_number\n",
    "print(len(b1))\n",
    "print(b1.__dict__)"
   ]
  },
  {
   "cell_type": "markdown",
   "metadata": {},
   "source": [
    "# `7. __getitme__()`:-\n",
    "In Python, the `__getitem__()` method is a special method that enables instances of  a class to be accessed using the indexing syntax ([])"
   ]
  },
  {
   "cell_type": "code",
   "execution_count": 39,
   "metadata": {},
   "outputs": [
    {
     "name": "stdout",
     "output_type": "stream",
     "text": [
      "init is running\n",
      "30\n"
     ]
    },
    {
     "ename": "TypeError",
     "evalue": "'Bank' object is not subscriptable",
     "output_type": "error",
     "traceback": [
      "\u001b[1;31m---------------------------------------------------------------------------\u001b[0m",
      "\u001b[1;31mTypeError\u001b[0m                                 Traceback (most recent call last)",
      "Cell \u001b[1;32mIn[39], line 16\u001b[0m\n\u001b[0;32m     13\u001b[0m data \u001b[38;5;241m=\u001b[39m [\u001b[38;5;241m10\u001b[39m,\u001b[38;5;241m20\u001b[39m,\u001b[38;5;241m30\u001b[39m,\u001b[38;5;241m40\u001b[39m]  \u001b[38;5;66;03m#list --> __getitem__\u001b[39;00m\n\u001b[0;32m     14\u001b[0m \u001b[38;5;28mprint\u001b[39m(data[\u001b[38;5;241m2\u001b[39m])\n\u001b[1;32m---> 16\u001b[0m \u001b[38;5;28mprint\u001b[39m(\u001b[43mb1\u001b[49m\u001b[43m[\u001b[49m\u001b[38;5;241;43m2\u001b[39;49m\u001b[43m]\u001b[49m)\n",
      "\u001b[1;31mTypeError\u001b[0m: 'Bank' object is not subscriptable"
     ]
    }
   ],
   "source": [
    "class Bank:\n",
    "    bank_name = \"BOP\"\n",
    "    def __init__(self,balance,card,acc_no,name):\n",
    "        print('init is running')\n",
    "        self.bank_balance = balance\n",
    "        self.card_number = card\n",
    "        self.account_number = acc_no\n",
    "        self.customer_name = name\n",
    "\n",
    "    \n",
    "b1 = Bank(100, '86745 33849 83922','2ii4829','shantanu kejkar')  \n",
    "\n",
    "data = [10,20,30,40]  #list --> __getitem__\n",
    "print(data[2])\n",
    "\n",
    "print(b1[2])"
   ]
  },
  {
   "cell_type": "markdown",
   "metadata": {},
   "source": [
    "`define getitem method ` in bank class"
   ]
  },
  {
   "cell_type": "code",
   "execution_count": 45,
   "metadata": {},
   "outputs": [
    {
     "name": "stdout",
     "output_type": "stream",
     "text": [
      "init is running\n",
      "30\n",
      "2ii4829\n",
      "2ii4829\n"
     ]
    }
   ],
   "source": [
    "class Bank:\n",
    "    bank_name = \"BOP\"\n",
    "    def __init__(self,balance,card,acc_no,name):\n",
    "        print('init is running')\n",
    "        self.bank_balance = balance\n",
    "        self.card_number = card\n",
    "        self.account_number = acc_no\n",
    "        self.customer_name = name\n",
    "\n",
    "    def __getitem__(self,key):\n",
    "          return self.__dict__[key]  #b1.__dict__ {key:val}\n",
    "    \n",
    "b1 = Bank(100, '86745 33849 83922','2ii4829','shantanu kejkar')  \n",
    "\n",
    "data = [10,20,30,40]  #list --> __getitem__\n",
    "print(data[2])\n",
    "\n",
    "print(b1['account_number'])\n",
    "\n",
    "print(b1.__dict__['account_number'])"
   ]
  },
  {
   "cell_type": "markdown",
   "metadata": {},
   "source": [
    "# `8. __setitem__()`:- \n",
    "In Python, the `__setitem__()` method is a special method that enables instances of a class to support assignment using the indexing syntax ([])"
   ]
  },
  {
   "cell_type": "code",
   "execution_count": 49,
   "metadata": {},
   "outputs": [
    {
     "name": "stdout",
     "output_type": "stream",
     "text": [
      "init is running\n",
      "{'bank_balance': 1000, 'card_number': '86745 33849 83922', 'account_number': '2ii4829', 'customer_name': 'shantanu kejkar'}\n"
     ]
    }
   ],
   "source": [
    "class Bank:\n",
    "    bank_name = \"BOP\"\n",
    "    def __init__(self,balance,card,acc_no,name):\n",
    "        print('init is running')\n",
    "        self.bank_balance = balance\n",
    "        self.card_number = card\n",
    "        self.account_number = acc_no\n",
    "        self.customer_name = name\n",
    "\n",
    "    def __setitem__(self,instance_var, new_value):\n",
    "         self.__dict__[instance_var] = new_value  #b1.__dict__ {key:val}\n",
    "    \n",
    "b1 = Bank(100, '86745 33849 83922','2ii4829','shantanu kejkar')  \n",
    "\n",
    "b1['bank_balance'] = 1000\n",
    "\n",
    "#dictname[keyname] = new_value  #dictname.__setitem__(self,keyname,new_value)\n",
    "\n",
    "b1['bank_balance'] = 1000\n",
    "print(b1.__dict__)"
   ]
  }
 ],
 "metadata": {
  "kernelspec": {
   "display_name": "base",
   "language": "python",
   "name": "python3"
  },
  "language_info": {
   "codemirror_mode": {
    "name": "ipython",
    "version": 3
   },
   "file_extension": ".py",
   "mimetype": "text/x-python",
   "name": "python",
   "nbconvert_exporter": "python",
   "pygments_lexer": "ipython3",
   "version": "3.12.4"
  }
 },
 "nbformat": 4,
 "nbformat_minor": 2
}

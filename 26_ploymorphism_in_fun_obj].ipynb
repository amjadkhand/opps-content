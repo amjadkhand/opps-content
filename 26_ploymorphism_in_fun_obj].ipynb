{
 "cells": [
  {
   "cell_type": "markdown",
   "metadata": {},
   "source": [
    "# Ploymorphism in functions and object"
   ]
  },
  {
   "cell_type": "code",
   "execution_count": 3,
   "metadata": {},
   "outputs": [
    {
     "name": "stdout",
     "output_type": "stream",
     "text": [
      "Diesel\n",
      "max speed is 200\n",
      "____________________\n",
      "Petrol\n",
      "max speed is 180\n"
     ]
    }
   ],
   "source": [
    "class BMW:\n",
    "    def fuel_type(self):\n",
    "        print(\"Diesel\")\n",
    "\n",
    "    def max_speed(self):\n",
    "        print(\"max speed is 200\")    \n",
    "\n",
    "class Ferrari:\n",
    "\n",
    "    def fuel_type(self):\n",
    "        print(\"Petrol\")\n",
    "\n",
    "    def max_speed(self):\n",
    "        print(\"max speed is 180\") \n",
    "\n",
    "def car_details(obj):\n",
    "    obj.fuel_type()          \n",
    "    obj.max_speed()          \n",
    " \n",
    "bmw = BMW()\n",
    "ferr = Ferrari()\n",
    "\n",
    "# functions outer\n",
    "car_details(bmw)\n",
    "\n",
    "print(\"____________________\")\n",
    "\n",
    "car_details(ferr)"
   ]
  }
 ],
 "metadata": {
  "kernelspec": {
   "display_name": "base",
   "language": "python",
   "name": "python3"
  },
  "language_info": {
   "codemirror_mode": {
    "name": "ipython",
    "version": 3
   },
   "file_extension": ".py",
   "mimetype": "text/x-python",
   "name": "python",
   "nbconvert_exporter": "python",
   "pygments_lexer": "ipython3",
   "version": "3.12.4"
  }
 },
 "nbformat": 4,
 "nbformat_minor": 2
}

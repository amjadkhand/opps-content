{
 "cells": [
  {
   "cell_type": "markdown",
   "metadata": {},
   "source": [
    "# What is Abstraction?\n",
    "\n",
    "- The process by which data and functions are defined in such a way that only essential details can be seen and `unnecessary` implementations are hidden is called `Data Abstraction`\n",
    "\n",
    "- Hidding complex implementation details and `showing only signatures` to users"
   ]
  },
  {
   "cell_type": "markdown",
   "metadata": {},
   "source": [
    "### How abstraction achieved in Python\n",
    "\n",
    "* By using abc module:- ABC class abstractmethod\n",
    "* Inherit your class from ABC class\n",
    "* Create abstract methods in your abstract class"
   ]
  },
  {
   "cell_type": "markdown",
   "metadata": {},
   "source": [
    "# Syntax:-\n",
    "from abc import ABC, abstractmethod\n",
    "class Employee(ABC):\n",
    "     #abstract methods\n",
    "     #concrete methods\n",
    "\n",
    "* Abstract methods:- method that has a decelaration but does not have an implementation.\n",
    "* Concret Method Normal"
   ]
  },
  {
   "cell_type": "code",
   "execution_count": 1,
   "metadata": {},
   "outputs": [
    {
     "ename": "TypeError",
     "evalue": "Can't instantiate abstract class Car without an implementation for abstract method 'mileage'",
     "output_type": "error",
     "traceback": [
      "\u001b[1;31m---------------------------------------------------------------------------\u001b[0m",
      "\u001b[1;31mTypeError\u001b[0m                                 Traceback (most recent call last)",
      "Cell \u001b[1;32mIn[1], line 23\u001b[0m\n\u001b[0;32m     20\u001b[0m     \u001b[38;5;28;01mdef\u001b[39;00m \u001b[38;5;21mmileage\u001b[39m(\u001b[38;5;28mself\u001b[39m):\n\u001b[0;32m     21\u001b[0m         \u001b[38;5;28mprint\u001b[39m(\u001b[38;5;124m\"\u001b[39m\u001b[38;5;124mmileage is 40 kmph\u001b[39m\u001b[38;5;124m\"\u001b[39m)        \n\u001b[1;32m---> 23\u001b[0m c1 \u001b[38;5;241m=\u001b[39m \u001b[43mCar\u001b[49m\u001b[43m(\u001b[49m\u001b[43m)\u001b[49m           \n",
      "\u001b[1;31mTypeError\u001b[0m: Can't instantiate abstract class Car without an implementation for abstract method 'mileage'"
     ]
    }
   ],
   "source": [
    "from abc import ABC, abstractmethod\n",
    "\n",
    "class Car(ABC):\n",
    "    @abstractmethod\n",
    "    def mileage(self):\n",
    "        pass\n",
    "    \n",
    "    def color(self):\n",
    "        print(\"white\")\n",
    "\n",
    "class Maruti_Suzuki(Car):\n",
    "    def mileage(self):\n",
    "        print(\"mileage is 30 kmph\")\n",
    "\n",
    "class TATA(Car):\n",
    "    def mileage(self):\n",
    "        print(\"mileage is 35 kmph\")\n",
    "\n",
    "class Duster (Car):\n",
    "    def mileage(self):\n",
    "        print(\"mileage is 40 kmph\")        \n",
    "            \n",
    "c1 = Car()           "
   ]
  },
  {
   "cell_type": "markdown",
   "metadata": {},
   "source": [
    "create object of the derived class"
   ]
  },
  {
   "cell_type": "code",
   "execution_count": 4,
   "metadata": {},
   "outputs": [
    {
     "name": "stdout",
     "output_type": "stream",
     "text": [
      "mileage is 30 kmph\n",
      "mileage is 40 kmph\n"
     ]
    }
   ],
   "source": [
    "from abc import ABC, abstractmethod\n",
    "\n",
    "class Car(ABC):\n",
    "    @abstractmethod\n",
    "    def mileage(self):\n",
    "        pass\n",
    "    def color(self):\n",
    "        print(\"white\")\n",
    "\n",
    "class Maruti_Suzuki(Car):\n",
    "    def mileage(self):\n",
    "        print(\"mileage is 30 kmph\")\n",
    "\n",
    "class TATA(Car):\n",
    "    def mileage(self):\n",
    "        print(\"mileage is 35 kmph\")\n",
    "\n",
    "class Duster (Car):\n",
    "    def mileage(self):\n",
    "        print(\"mileage is 40 kmph\")        \n",
    "            \n",
    "\n",
    "m1 = Maruti_Suzuki()\n",
    "t1 = TATA()\n",
    "d1 = Duster()\n",
    "\n",
    "m1.mileage()\n",
    "d1.mileage()"
   ]
  },
  {
   "cell_type": "markdown",
   "metadata": {},
   "source": [
    "# Abstract class:-\n",
    "\n",
    "- A class which contains one or more abstract methods and concrete methods.\n",
    "- Abstract clas must have at least one abstract method\n",
    "- An abstract class can be considered as a blueprint for other classes.\n",
    "- A class which is inherited from ABC class"
   ]
  },
  {
   "cell_type": "code",
   "execution_count": 7,
   "metadata": {},
   "outputs": [
    {
     "ename": "TypeError",
     "evalue": "Can't instantiate abstract class Maruti_Suzuki without an implementation for abstract method 'mileage'",
     "output_type": "error",
     "traceback": [
      "\u001b[1;31m---------------------------------------------------------------------------\u001b[0m",
      "\u001b[1;31mTypeError\u001b[0m                                 Traceback (most recent call last)",
      "Cell \u001b[1;32mIn[7], line 22\u001b[0m\n\u001b[0;32m     18\u001b[0m     \u001b[38;5;28;01mdef\u001b[39;00m \u001b[38;5;21mmileage\u001b[39m(\u001b[38;5;28mself\u001b[39m):\n\u001b[0;32m     19\u001b[0m         \u001b[38;5;28mprint\u001b[39m(\u001b[38;5;124m\"\u001b[39m\u001b[38;5;124mmileage is 40 kmph\u001b[39m\u001b[38;5;124m\"\u001b[39m)        \n\u001b[1;32m---> 22\u001b[0m m1 \u001b[38;5;241m=\u001b[39m \u001b[43mMaruti_Suzuki\u001b[49m\u001b[43m(\u001b[49m\u001b[43m)\u001b[49m\n\u001b[0;32m     23\u001b[0m t1 \u001b[38;5;241m=\u001b[39m TATA()\n\u001b[0;32m     24\u001b[0m d1 \u001b[38;5;241m=\u001b[39m Duster()\n",
      "\u001b[1;31mTypeError\u001b[0m: Can't instantiate abstract class Maruti_Suzuki without an implementation for abstract method 'mileage'"
     ]
    }
   ],
   "source": [
    "from abc import ABC, abstractmethod\n",
    "\n",
    "class Car(ABC):\n",
    "    @abstractmethod\n",
    "    def mileage(self):\n",
    "        pass\n",
    "    def color(self):\n",
    "        print(\"white\")\n",
    "\n",
    "class Maruti_Suzuki(Car):\n",
    "        pass\n",
    "\n",
    "class TATA(Car):\n",
    "    def mileage(self):\n",
    "        print(\"mileage is 35 kmph\")\n",
    "\n",
    "class Duster (Car):\n",
    "    def mileage(self):\n",
    "        print(\"mileage is 40 kmph\")        \n",
    "            \n",
    "\n",
    "m1 = Maruti_Suzuki()\n",
    "t1 = TATA()\n",
    "d1 = Duster()\n",
    "\n",
    "m1.mileage()\n",
    "d1.mileage()"
   ]
  },
  {
   "cell_type": "markdown",
   "metadata": {},
   "source": [
    "# `Keep in mind...`\n",
    "- You cant't instance abstract classes\n",
    "- Abstract class requires at least one method abstract\n",
    "- All abstract methods present in abstract calss must be implemented in child classes. Else, child class becomes abstract\n",
    "- If there is abstract method in class, that class must be abstract class"
   ]
  },
  {
   "cell_type": "markdown",
   "metadata": {},
   "source": [
    "# `Use of abstraction`\n",
    "1. When we have large code and functionalities\n",
    "2. Your abstract class is like and API for other subclasses\n",
    "3. used when a third party is going to provide implementations\n",
    "4. When we have different implementations for different objects for same component\n",
    "5. For creating interfaces"
   ]
  },
  {
   "cell_type": "code",
   "execution_count": 8,
   "metadata": {},
   "outputs": [],
   "source": [
    "from abc import ABC, abstractmethod\n",
    "\n",
    "class CMD(ABC):\n",
    "    @abstractmethod\n",
    "    \n",
    "    def cd(self,dir):\n",
    "        pass\n",
    "\n",
    "    def exit(self):\n",
    "        pass\n",
    "\n",
    "class Child(CMD): \n",
    "    pass  "
   ]
  }
 ],
 "metadata": {
  "kernelspec": {
   "display_name": "base",
   "language": "python",
   "name": "python3"
  },
  "language_info": {
   "codemirror_mode": {
    "name": "ipython",
    "version": 3
   },
   "file_extension": ".py",
   "mimetype": "text/x-python",
   "name": "python",
   "nbconvert_exporter": "python",
   "pygments_lexer": "ipython3",
   "version": "3.12.4"
  }
 },
 "nbformat": 4,
 "nbformat_minor": 2
}

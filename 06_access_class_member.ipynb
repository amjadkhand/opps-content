{
 "cells": [
  {
   "cell_type": "markdown",
   "metadata": {},
   "source": [
    "`How to access class memebers?`"
   ]
  },
  {
   "cell_type": "markdown",
   "metadata": {},
   "source": [
    "* class members:- Attributes(variables) + Actions(Methods)\n",
    "* We can access these variables usig object outside the class.\n",
    "\n",
    "* Syntax:-\n",
    "    * Accessing attribute:- object_name.variable_name\n",
    "    * Accessing method:- object_name.method_name"
   ]
  },
  {
   "cell_type": "code",
   "execution_count": 1,
   "metadata": {},
   "outputs": [
    {
     "name": "stdout",
     "output_type": "stream",
     "text": [
      "24000\n",
      "26\n",
      "salary is 26000 and age is 26\n",
      "salary is 24000 and age is 21\n"
     ]
    }
   ],
   "source": [
    "class Employee:\n",
    "    def __init__(self, salary, age):\n",
    "        self.salary = salary\n",
    "        self.age = age\n",
    "\n",
    "    def display(self): # self is a memory reference of current object\n",
    "        print(f\"salary is {self.salary} and age is {self.age}\")\n",
    "\n",
    "\n",
    "e1 = Employee(24000, 21)\n",
    "e2 = Employee(26000, 26)\n",
    "\n",
    "print(e1.salary)\n",
    "print(e2.age)\n",
    "\n",
    "e2.display() # he got reference of object e2\n",
    "e1.display() # he got reference of object e2"
   ]
  }
 ],
 "metadata": {
  "kernelspec": {
   "display_name": "base",
   "language": "python",
   "name": "python3"
  },
  "language_info": {
   "codemirror_mode": {
    "name": "ipython",
    "version": 3
   },
   "file_extension": ".py",
   "mimetype": "text/x-python",
   "name": "python",
   "nbconvert_exporter": "python",
   "pygments_lexer": "ipython3",
   "version": "3.12.4"
  }
 },
 "nbformat": 4,
 "nbformat_minor": 2
}

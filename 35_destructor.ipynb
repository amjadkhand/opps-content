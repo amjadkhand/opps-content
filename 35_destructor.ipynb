{
 "cells": [
  {
   "cell_type": "markdown",
   "metadata": {},
   "source": [
    "# Destructor in OOP\n",
    "\n",
    "- A special method which destroys objects and releases resources tied to objects.\n",
    "\n",
    "- Destructor is called automatically when object is destroyed."
   ]
  },
  {
   "cell_type": "markdown",
   "metadata": {},
   "source": [
    "# What is Purpose of Dsetructor?\n",
    "\n",
    "- Releasing objects tied to destroyed objects"
   ]
  },
  {
   "cell_type": "markdown",
   "metadata": {},
   "source": [
    "### Below are two conditions when destructor is called:-\n",
    "\n",
    "- Reference counting reaches to 0.\n",
    "  \n",
    "- When variable goes out of scope"
   ]
  },
  {
   "cell_type": "markdown",
   "metadata": {},
   "source": [
    "* `Note:-` In Python, The special method `__del__()` is used to define a destructor"
   ]
  },
  {
   "cell_type": "code",
   "execution_count": 5,
   "metadata": {},
   "outputs": [
    {
     "name": "stdout",
     "output_type": "stream",
     "text": [
      "name is: Shantanu and salary is: 50000\n"
     ]
    }
   ],
   "source": [
    "class Employee:\n",
    "    def __init__(self, name,salary):\n",
    "        self.name = name\n",
    "        self.salary = salary\n",
    "\n",
    "    def display(self):\n",
    "        print(f\"name is: {self.name} and salary is: {self.salary}\") \n",
    "\n",
    "e1 = Employee(\"Shantanu\", 50000)\n",
    "e1.display()    \n"
   ]
  },
  {
   "cell_type": "markdown",
   "metadata": {},
   "source": [
    "`Define constructor`"
   ]
  },
  {
   "cell_type": "code",
   "execution_count": 2,
   "metadata": {},
   "outputs": [
    {
     "name": "stdout",
     "output_type": "stream",
     "text": [
      "Destructor is called\n",
      "name is: Shantanu and salary is: 50000\n"
     ]
    }
   ],
   "source": [
    "import time\n",
    "class Employee:\n",
    "    def __init__(self, name,salary):\n",
    "        self.name = name\n",
    "        self.salary = salary\n",
    "\n",
    "    def display(self):\n",
    "        print(f\"name is: {self.name} and salary is: {self.salary}\")  \n",
    "\n",
    "# Define Destructor\n",
    "    def __del__(self):\n",
    "        print(\"Destructor is called\")\n",
    "\n",
    "e1 = Employee(\"Shantanu\", 50000)\n",
    "e2 = e1\n",
    "e1.display()    \n",
    "del e1\n",
    "\n",
    "time.sleep(5)"
   ]
  },
  {
   "cell_type": "code",
   "execution_count": null,
   "metadata": {},
   "outputs": [],
   "source": []
  }
 ],
 "metadata": {
  "kernelspec": {
   "display_name": "base",
   "language": "python",
   "name": "python3"
  },
  "language_info": {
   "codemirror_mode": {
    "name": "ipython",
    "version": 3
   },
   "file_extension": ".py",
   "mimetype": "text/x-python",
   "name": "python",
   "nbconvert_exporter": "python",
   "pygments_lexer": "ipython3",
   "version": "3.12.4"
  }
 },
 "nbformat": 4,
 "nbformat_minor": 2
}

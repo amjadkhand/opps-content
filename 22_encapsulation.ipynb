{
 "cells": [
  {
   "cell_type": "markdown",
   "metadata": {},
   "source": [
    "# What is Encapsulation in Python?\n",
    "\n",
    "Wrapping up `data` and `methods` working on data  together in a single unit (i.e class) is called as encapsulation."
   ]
  },
  {
   "cell_type": "code",
   "execution_count": 3,
   "metadata": {},
   "outputs": [],
   "source": [
    "class Employee:\n",
    "    def __init__(self, name, salary):\n",
    "        self.name =name\n",
    "        self.salary =salary\n",
    "\n",
    "    def display(self):\n",
    "        print(f\"name is: {self.name} and salary is: {self.salary}\")   \n",
    "          "
   ]
  },
  {
   "cell_type": "markdown",
   "metadata": {},
   "source": [
    "create another class and use the second class variables and modify them in second class"
   ]
  },
  {
   "cell_type": "code",
   "execution_count": 14,
   "metadata": {},
   "outputs": [
    {
     "name": "stdout",
     "output_type": "stream",
     "text": [
      "finance class = {'revenue': 100000, 'number_of_sales': 120}\n",
      "{'revenue': 30, 'number_of_sales': 120}\n"
     ]
    }
   ],
   "source": [
    "class Finance:\n",
    "    def __init__(self):\n",
    "        self.revenue = 100000\n",
    "        self.number_of_sales = 120\n",
    "\n",
    "class HR:\n",
    "    def __init__(self):\n",
    "        self.number_of_emp =32\n",
    "        # print(f1.revenue)\n",
    "        f1.revenue =30\n",
    "\n",
    "f1 = Finance()\n",
    "print(\"finance class =\",f1.__dict__)\n",
    " \n",
    "h1 = HR()\n",
    "print(f1.__dict__)"
   ]
  },
  {
   "cell_type": "markdown",
   "metadata": {},
   "source": [
    "# Need of Encapsulations\n"
   ]
  },
  {
   "cell_type": "code",
   "execution_count": null,
   "metadata": {},
   "outputs": [],
   "source": [
    "class Finance:\n",
    "    def __init__(self):\n",
    "        self.revenue = 100000\n",
    "        self.number_of_sales = 120\n",
    "\n",
    "f1 = Finance()\n",
    "print(f1.__dict__)\n",
    "\n",
    "class HR:\n",
    "    def __init__(self):\n",
    "        self.number_of_emp =32\n",
    "        # print(f1.revenue)\n",
    "        f1.revenue =30\n",
    "\n",
    "h1 = HR()\n",
    "print(f1.__dict__)"
   ]
  },
  {
   "cell_type": "markdown",
   "metadata": {},
   "source": [
    "# Acess Modifiers in Python:-\n",
    "\n",
    "- Generally, we restrict data access outside the class in encapsulation.\n",
    "- Encapsulation can be achieved by declaring the data members and methods of a class as private\n",
    "- Three access specifiers:\n",
    "   - Public\n",
    "   - Private\n",
    "   - Protected"
   ]
  },
  {
   "cell_type": "markdown",
   "metadata": {},
   "source": [
    "# `1. Public memeber:-`\n",
    "Accessible anywhere by using object reference."
   ]
  },
  {
   "cell_type": "code",
   "execution_count": 17,
   "metadata": {},
   "outputs": [
    {
     "name": "stdout",
     "output_type": "stream",
     "text": [
      "{'revenue': 100000, 'number_of_sales': 120}\n",
      "30\n",
      "{'revenue': 30, 'number_of_sales': 120}\n"
     ]
    }
   ],
   "source": [
    "class Finance:\n",
    "    def __init__(self):\n",
    "        self.revenue = 100000\n",
    "        self.number_of_sales = 120\n",
    "\n",
    "class HR:\n",
    "    def __init__(self):\n",
    "        self.number_of_emp =32\n",
    "        print(f1.revenue)\n",
    "\n",
    "        \n",
    "f1 = Finance()\n",
    "print(f1.__dict__)\n",
    "f1.revenue = 30\n",
    "h1 = HR()\n",
    "print(f1.__dict__)"
   ]
  },
  {
   "cell_type": "markdown",
   "metadata": {},
   "source": [
    "# `2. Private member:-` \n",
    "Accessible within the class. Accessible via methods only"
   ]
  },
  {
   "cell_type": "code",
   "execution_count": 19,
   "metadata": {},
   "outputs": [
    {
     "name": "stdout",
     "output_type": "stream",
     "text": [
      "{'_Finance__revenue': 100000, 'number_of_sales': 120}\n"
     ]
    },
    {
     "ename": "AttributeError",
     "evalue": "'Finance' object has no attribute '_HR__revenue'",
     "output_type": "error",
     "traceback": [
      "\u001b[1;31m---------------------------------------------------------------------------\u001b[0m",
      "\u001b[1;31mAttributeError\u001b[0m                            Traceback (most recent call last)",
      "Cell \u001b[1;32mIn[19], line 17\u001b[0m\n\u001b[0;32m     13\u001b[0m \u001b[38;5;28mprint\u001b[39m(f1\u001b[38;5;241m.\u001b[39m\u001b[38;5;18m__dict__\u001b[39m)\n\u001b[0;32m     15\u001b[0m f1\u001b[38;5;241m.\u001b[39m__revenue \u001b[38;5;241m=\u001b[39m\u001b[38;5;241m10\u001b[39m\n\u001b[1;32m---> 17\u001b[0m h1 \u001b[38;5;241m=\u001b[39m \u001b[43mHR\u001b[49m\u001b[43m(\u001b[49m\u001b[43m)\u001b[49m\n\u001b[0;32m     18\u001b[0m \u001b[38;5;28mprint\u001b[39m(f1\u001b[38;5;241m.\u001b[39m\u001b[38;5;18m__dict__\u001b[39m)\n",
      "Cell \u001b[1;32mIn[19], line 10\u001b[0m, in \u001b[0;36mHR.__init__\u001b[1;34m(self)\u001b[0m\n\u001b[0;32m      8\u001b[0m \u001b[38;5;28;01mdef\u001b[39;00m \u001b[38;5;21m__init__\u001b[39m(\u001b[38;5;28mself\u001b[39m):\n\u001b[0;32m      9\u001b[0m     \u001b[38;5;28mself\u001b[39m\u001b[38;5;241m.\u001b[39mnumber_of_emp \u001b[38;5;241m=\u001b[39m\u001b[38;5;241m32\u001b[39m\n\u001b[1;32m---> 10\u001b[0m     \u001b[38;5;28mprint\u001b[39m(\u001b[43mf1\u001b[49m\u001b[38;5;241;43m.\u001b[39;49m\u001b[43m__revenue\u001b[49m)\n",
      "\u001b[1;31mAttributeError\u001b[0m: 'Finance' object has no attribute '_HR__revenue'"
     ]
    }
   ],
   "source": [
    "class Finance:\n",
    "\n",
    "    def __init__(self):\n",
    "        self.__revenue = 100000\n",
    "        self.number_of_sales = 120\n",
    "\n",
    "class HR:\n",
    "    def __init__(self):\n",
    "        self.number_of_emp =32\n",
    "        print(f1.__revenue)\n",
    "       \n",
    "f1 = Finance()\n",
    "print(f1.__dict__)\n",
    "\n",
    "f1.__revenue =10\n",
    "\n",
    "h1 = HR()\n",
    "print(f1.__dict__)"
   ]
  },
  {
   "cell_type": "markdown",
   "metadata": {},
   "source": [
    "`how to access private member`\n",
    "we can get by creating method"
   ]
  },
  {
   "cell_type": "code",
   "execution_count": 28,
   "metadata": {},
   "outputs": [
    {
     "name": "stdout",
     "output_type": "stream",
     "text": [
      "revenue is 100000 and number of sales: 120\n"
     ]
    }
   ],
   "source": [
    "class Finance:\n",
    "    def __init__(self):\n",
    "        self.__revenue = 100000\n",
    "        self.number_of_sales = 120\n",
    "\n",
    "    def display(self):\n",
    "        print(f\"revenue is {self.__revenue} and number of sales: {self.number_of_sales}\")\n",
    "\n",
    "f1 = Finance()\n",
    "f1.display()    "
   ]
  },
  {
   "cell_type": "markdown",
   "metadata": {},
   "source": [
    "`modify the class attribute`"
   ]
  },
  {
   "cell_type": "code",
   "execution_count": 33,
   "metadata": {},
   "outputs": [
    {
     "name": "stdout",
     "output_type": "stream",
     "text": [
      "revenue is 100000 and number of sales: 120\n",
      "revenue is 483920 and number of sales: 120\n"
     ]
    }
   ],
   "source": [
    "class Finance:\n",
    "    def __init__(self):\n",
    "        self.__revenue = 100000\n",
    "        self.number_of_sales = 120\n",
    "\n",
    "    def display(self):\n",
    "        print(f\"revenue is {self.__revenue} and number of sales: {self.number_of_sales}\")\n",
    "\n",
    "        self.__revenue = 483920\n",
    "        print(f\"revenue is {self.__revenue} and number of sales: {self.number_of_sales}\")\n",
    "\n",
    "f1 = Finance()\n",
    "f1.display()\n"
   ]
  },
  {
   "cell_type": "markdown",
   "metadata": {},
   "source": [
    "### ` Using Name mangling` to access the private data outside the class"
   ]
  },
  {
   "cell_type": "code",
   "execution_count": 43,
   "metadata": {},
   "outputs": [
    {
     "name": "stdout",
     "output_type": "stream",
     "text": [
      "100000\n",
      "120\n",
      "{'_Finance__revenue': 100000, '_Finance__number_of_sales': 120}\n"
     ]
    }
   ],
   "source": [
    "class Finance:\n",
    "    def __init__(self):\n",
    "        self.__revenue = 100000   #private data\n",
    "        self.__number_of_sales = 120   #private data\n",
    "\n",
    "f1 = Finance()\n",
    "print(f1._Finance__revenue)\n",
    "print(f1._Finance__number_of_sales)\n",
    "print(f1.__dict__)\n"
   ]
  },
  {
   "cell_type": "markdown",
   "metadata": {},
   "source": [
    "`convert method into private`"
   ]
  },
  {
   "cell_type": "code",
   "execution_count": 47,
   "metadata": {},
   "outputs": [
    {
     "ename": "AttributeError",
     "evalue": "'Finance' object has no attribute '__display'",
     "output_type": "error",
     "traceback": [
      "\u001b[1;31m---------------------------------------------------------------------------\u001b[0m",
      "\u001b[1;31mAttributeError\u001b[0m                            Traceback (most recent call last)",
      "Cell \u001b[1;32mIn[47], line 10\u001b[0m\n\u001b[0;32m      7\u001b[0m         \u001b[38;5;28mprint\u001b[39m(\u001b[38;5;28mself\u001b[39m\u001b[38;5;241m.\u001b[39m__revenue)\n\u001b[0;32m      9\u001b[0m f1 \u001b[38;5;241m=\u001b[39m Finance()\n\u001b[1;32m---> 10\u001b[0m \u001b[43mf1\u001b[49m\u001b[38;5;241;43m.\u001b[39;49m\u001b[43m__display\u001b[49m()        \n",
      "\u001b[1;31mAttributeError\u001b[0m: 'Finance' object has no attribute '__display'"
     ]
    }
   ],
   "source": [
    "class Finance:\n",
    "    def __init__(self):\n",
    "        self.__revenue = 100000\n",
    "        self.number_of_sales = 120\n",
    "\n",
    "    def __display(self):\n",
    "        print(self.__revenue)\n",
    "\n",
    "f1 = Finance()\n",
    "f1.__display()        \n"
   ]
  },
  {
   "cell_type": "markdown",
   "metadata": {},
   "source": [
    "# `3. Protected member:-` Accessible within class and it's subclasses"
   ]
  }
 ],
 "metadata": {
  "kernelspec": {
   "display_name": "base",
   "language": "python",
   "name": "python3"
  },
  "language_info": {
   "codemirror_mode": {
    "name": "ipython",
    "version": 3
   },
   "file_extension": ".py",
   "mimetype": "text/x-python",
   "name": "python",
   "nbconvert_exporter": "python",
   "pygments_lexer": "ipython3",
   "version": "3.12.4"
  }
 },
 "nbformat": 4,
 "nbformat_minor": 2
}
